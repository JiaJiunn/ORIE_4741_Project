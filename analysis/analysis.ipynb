{
 "cells": [
  {
   "cell_type": "code",
   "execution_count": 6,
   "metadata": {},
   "outputs": [],
   "source": [
    "import numpy as np\n",
    "import pandas as pd\n",
    "from matplotlib import pyplot as plt"
   ]
  },
  {
   "cell_type": "code",
   "execution_count": 42,
   "metadata": {},
   "outputs": [
    {
     "data": {
      "text/html": [
       "<div>\n",
       "<style scoped>\n",
       "    .dataframe tbody tr th:only-of-type {\n",
       "        vertical-align: middle;\n",
       "    }\n",
       "\n",
       "    .dataframe tbody tr th {\n",
       "        vertical-align: top;\n",
       "    }\n",
       "\n",
       "    .dataframe thead th {\n",
       "        text-align: right;\n",
       "    }\n",
       "</style>\n",
       "<table border=\"1\" class=\"dataframe\">\n",
       "  <thead>\n",
       "    <tr style=\"text-align: right;\">\n",
       "      <th></th>\n",
       "      <th>FIPS</th>\n",
       "      <th>County</th>\n",
       "      <th>DEM</th>\n",
       "      <th>GOP</th>\n",
       "      <th>MedianIncome</th>\n",
       "      <th>MigraRate</th>\n",
       "      <th>BirthRate</th>\n",
       "      <th>DeathRate</th>\n",
       "      <th>BachelorRate</th>\n",
       "      <th>UnemploymentRate</th>\n",
       "      <th>State</th>\n",
       "      <th>zip</th>\n",
       "      <th>primary_city</th>\n",
       "      <th>latitude</th>\n",
       "      <th>longitude</th>\n",
       "      <th>estimated_population</th>\n",
       "    </tr>\n",
       "  </thead>\n",
       "  <tbody>\n",
       "    <tr>\n",
       "      <th>0</th>\n",
       "      <td>1001</td>\n",
       "      <td>Autauga</td>\n",
       "      <td>5908.0</td>\n",
       "      <td>18110.0</td>\n",
       "      <td>54,487</td>\n",
       "      <td>5.3</td>\n",
       "      <td>12.2</td>\n",
       "      <td>10.0</td>\n",
       "      <td>27.7</td>\n",
       "      <td>5.1</td>\n",
       "      <td>AL</td>\n",
       "      <td>36003.0</td>\n",
       "      <td>Autaugaville</td>\n",
       "      <td>32.43</td>\n",
       "      <td>-86.65</td>\n",
       "      <td>1628.0</td>\n",
       "    </tr>\n",
       "    <tr>\n",
       "      <th>1</th>\n",
       "      <td>1003</td>\n",
       "      <td>Baldwin</td>\n",
       "      <td>18409.0</td>\n",
       "      <td>72780.0</td>\n",
       "      <td>56,460</td>\n",
       "      <td>21.5</td>\n",
       "      <td>11.2</td>\n",
       "      <td>9.8</td>\n",
       "      <td>31.3</td>\n",
       "      <td>5.3</td>\n",
       "      <td>AL</td>\n",
       "      <td>31034.0</td>\n",
       "      <td>Hardwick</td>\n",
       "      <td>32.99</td>\n",
       "      <td>-83.29</td>\n",
       "      <td>1741.0</td>\n",
       "    </tr>\n",
       "    <tr>\n",
       "      <th>2</th>\n",
       "      <td>1005</td>\n",
       "      <td>Barbour</td>\n",
       "      <td>4848.0</td>\n",
       "      <td>5431.0</td>\n",
       "      <td>32,884</td>\n",
       "      <td>-18.2</td>\n",
       "      <td>10.6</td>\n",
       "      <td>10.8</td>\n",
       "      <td>12.2</td>\n",
       "      <td>8.3</td>\n",
       "      <td>AL</td>\n",
       "      <td>26238.0</td>\n",
       "      <td>Volga</td>\n",
       "      <td>39.06</td>\n",
       "      <td>-80.11</td>\n",
       "      <td>698.0</td>\n",
       "    </tr>\n",
       "    <tr>\n",
       "      <th>3</th>\n",
       "      <td>1007</td>\n",
       "      <td>Bibb</td>\n",
       "      <td>1874.0</td>\n",
       "      <td>6733.0</td>\n",
       "      <td>43,079</td>\n",
       "      <td>-0.8</td>\n",
       "      <td>12.1</td>\n",
       "      <td>10.8</td>\n",
       "      <td>11.5</td>\n",
       "      <td>6.4</td>\n",
       "      <td>AL</td>\n",
       "      <td>31052.0</td>\n",
       "      <td>Lizella</td>\n",
       "      <td>32.76</td>\n",
       "      <td>-83.86</td>\n",
       "      <td>7592.0</td>\n",
       "    </tr>\n",
       "    <tr>\n",
       "      <th>4</th>\n",
       "      <td>1009</td>\n",
       "      <td>Blount</td>\n",
       "      <td>2150.0</td>\n",
       "      <td>22808.0</td>\n",
       "      <td>47,213</td>\n",
       "      <td>-1.0</td>\n",
       "      <td>12.2</td>\n",
       "      <td>11.2</td>\n",
       "      <td>12.6</td>\n",
       "      <td>5.4</td>\n",
       "      <td>AL</td>\n",
       "      <td>35013.0</td>\n",
       "      <td>Allgood</td>\n",
       "      <td>33.90</td>\n",
       "      <td>-86.51</td>\n",
       "      <td>0.0</td>\n",
       "    </tr>\n",
       "  </tbody>\n",
       "</table>\n",
       "</div>"
      ],
      "text/plain": [
       "   FIPS   County      DEM      GOP MedianIncome  MigraRate  BirthRate  \\\n",
       "0  1001  Autauga   5908.0  18110.0       54,487        5.3       12.2   \n",
       "1  1003  Baldwin  18409.0  72780.0       56,460       21.5       11.2   \n",
       "2  1005  Barbour   4848.0   5431.0       32,884      -18.2       10.6   \n",
       "3  1007     Bibb   1874.0   6733.0       43,079       -0.8       12.1   \n",
       "4  1009   Blount   2150.0  22808.0       47,213       -1.0       12.2   \n",
       "\n",
       "   DeathRate  BachelorRate  UnemploymentRate State      zip  primary_city  \\\n",
       "0       10.0          27.7               5.1    AL  36003.0  Autaugaville   \n",
       "1        9.8          31.3               5.3    AL  31034.0      Hardwick   \n",
       "2       10.8          12.2               8.3    AL  26238.0         Volga   \n",
       "3       10.8          11.5               6.4    AL  31052.0       Lizella   \n",
       "4       11.2          12.6               5.4    AL  35013.0       Allgood   \n",
       "\n",
       "   latitude  longitude  estimated_population  \n",
       "0     32.43     -86.65                1628.0  \n",
       "1     32.99     -83.29                1741.0  \n",
       "2     39.06     -80.11                 698.0  \n",
       "3     32.76     -83.86                7592.0  \n",
       "4     33.90     -86.51                   0.0  "
      ]
     },
     "execution_count": 42,
     "metadata": {},
     "output_type": "execute_result"
    }
   ],
   "source": [
    "df = pd.read_csv(\"../data/county_2016_preprocessed1.csv\")\n",
    "df.head()"
   ]
  },
  {
   "cell_type": "code",
   "execution_count": 43,
   "metadata": {},
   "outputs": [
    {
     "data": {
      "text/plain": [
       "3143"
      ]
     },
     "execution_count": 43,
     "metadata": {},
     "output_type": "execute_result"
    }
   ],
   "source": [
    "len(df)"
   ]
  },
  {
   "cell_type": "code",
   "execution_count": 44,
   "metadata": {},
   "outputs": [],
   "source": [
    "# for x in range(0,len(df)):\n",
    "#     if pd.isna(df['DEM'][x]):\n",
    "#         print(df['County'][x])"
   ]
  },
  {
   "cell_type": "code",
   "execution_count": 45,
   "metadata": {},
   "outputs": [
    {
     "data": {
      "text/plain": [
       "3050"
      ]
     },
     "execution_count": 45,
     "metadata": {},
     "output_type": "execute_result"
    }
   ],
   "source": [
    "df = df.dropna()\n",
    "len(df)"
   ]
  },
  {
   "cell_type": "code",
   "execution_count": 46,
   "metadata": {},
   "outputs": [],
   "source": [
    "df['DEM'] = df['DEM'].astype('int32')\n",
    "df['GOP'] = df['GOP'].astype('int32')"
   ]
  },
  {
   "cell_type": "code",
   "execution_count": 47,
   "metadata": {},
   "outputs": [],
   "source": [
    "df['MedianIncome'] = df['MedianIncome'].replace(',','', regex=True)\n",
    "df['MedianIncome'] = df['MedianIncome'].astype('int32')"
   ]
  },
  {
   "cell_type": "code",
   "execution_count": 48,
   "metadata": {},
   "outputs": [
    {
     "data": {
      "image/png": "[encoded data removed]",
      "text/plain": [
       "<Figure size 432x288 with 1 Axes>"
      ]
     },
     "metadata": {
      "needs_background": "light"
     },
     "output_type": "display_data"
    }
   ],
   "source": [
    "plt.scatter(df['MedianIncome'], df['DEM'])\n",
    "\n",
    "plt.title('Median Income and DEM votes')\n",
    "plt.xlabel('Median Income')\n",
    "plt.ylabel('DEM')\n",
    "\n",
    "plt.show()"
   ]
  },
  {
   "cell_type": "code",
   "execution_count": 49,
   "metadata": {},
   "outputs": [
    {
     "data": {
      "image/png": "[encoded data removed]",
      "text/plain": [
       "<Figure size 432x288 with 1 Axes>"
      ]
     },
     "metadata": {
      "needs_background": "light"
     },
     "output_type": "display_data"
    }
   ],
   "source": [
    "plt.scatter(df['MedianIncome'], df['GOP'])\n",
    "\n",
    "plt.title('Median Income and GOP votes')\n",
    "plt.xlabel('Median Income')\n",
    "plt.ylabel('GOP')\n",
    "\n",
    "plt.show()"
   ]
  },
  {
   "cell_type": "code",
   "execution_count": 51,
   "metadata": {},
   "outputs": [
    {
     "data": {
      "image/png": "[encoded data removed]",
      "text/plain": [
       "<Figure size 432x288 with 1 Axes>"
      ]
     },
     "metadata": {
      "needs_background": "light"
     },
     "output_type": "display_data"
    }
   ],
   "source": [
    "plt.scatter(df['BachelorRate'], df['DEM'])\n",
    "\n",
    "plt.title('Bachelors Rate and DEM votes')\n",
    "plt.xlabel('Bachelors Rate')\n",
    "plt.ylabel('DEM')\n",
    "\n",
    "plt.show()"
   ]
  },
  {
   "cell_type": "code",
   "execution_count": 52,
   "metadata": {},
   "outputs": [
    {
     "data": {
      "image/png": "[encoded data removed]",
      "text/plain": [
       "<Figure size 432x288 with 1 Axes>"
      ]
     },
     "metadata": {
      "needs_background": "light"
     },
     "output_type": "display_data"
    }
   ],
   "source": [
    "plt.scatter(df['BachelorRate'], df['GOP'])\n",
    "\n",
    "plt.title('Bachelors Rate and GOP votes')\n",
    "plt.xlabel('Bachelors Rate')\n",
    "plt.ylabel('GOP')\n",
    "\n",
    "plt.show()"
   ]
  },
  {
   "cell_type": "code",
   "execution_count": 53,
   "metadata": {},
   "outputs": [
    {
     "data": {
      "image/png": "[encoded data removed]",
      "text/plain": [
       "<Figure size 432x288 with 1 Axes>"
      ]
     },
     "metadata": {
      "needs_background": "light"
     },
     "output_type": "display_data"
    }
   ],
   "source": [
    "plt.scatter(df['UnemploymentRate'], df['DEM'])\n",
    "\n",
    "plt.title('Unemployment Rate and DEM votes')\n",
    "plt.xlabel('Unemployment Rate')\n",
    "plt.ylabel('DEM')\n",
    "\n",
    "plt.show()"
   ]
  },
  {
   "cell_type": "code",
   "execution_count": 54,
   "metadata": {},
   "outputs": [
    {
     "data": {
      "image/png": "[encoded data removed]",
      "text/plain": [
       "<Figure size 432x288 with 1 Axes>"
      ]
     },
     "metadata": {
      "needs_background": "light"
     },
     "output_type": "display_data"
    }
   ],
   "source": [
    "plt.scatter(df['UnemploymentRate'], df['GOP'])\n",
    "\n",
    "plt.title('Unemployment Rate and GOP votes')\n",
    "plt.xlabel('Unemployment Rate')\n",
    "plt.ylabel('GOP')\n",
    "\n",
    "plt.show()"
   ]
  },
  {
   "cell_type": "markdown",
   "metadata": {},
   "source": [
    "Maybe predict larger portion of votes?"
   ]
  },
  {
   "cell_type": "code",
   "execution_count": 68,
   "metadata": {},
   "outputs": [
    {
     "name": "stderr",
     "output_type": "stream",
     "text": [
      "<ipython-input-68-8116353df6b6>:8: SettingWithCopyWarning: \n",
      "A value is trying to be set on a copy of a slice from a DataFrame\n",
      "\n",
      "See the caveats in the documentation: https://pandas.pydata.org/pandas-docs/stable/user_guide/indexing.html#returning-a-view-versus-a-copy\n",
      "  df['GOPWin'][idx]=1\n",
      "<ipython-input-68-8116353df6b6>:6: SettingWithCopyWarning: \n",
      "A value is trying to be set on a copy of a slice from a DataFrame\n",
      "\n",
      "See the caveats in the documentation: https://pandas.pydata.org/pandas-docs/stable/user_guide/indexing.html#returning-a-view-versus-a-copy\n",
      "  df['DEMWin'][idx]=1\n"
     ]
    }
   ],
   "source": [
    "#Dummy Encoding\n",
    "df['DEMWin']=0\n",
    "df['GOPWin']=0\n",
    "for idx, row in df.iterrows():\n",
    "    if row['DEM'] >= row['GOP']:\n",
    "        df['DEMWin'][idx]=1\n",
    "    else:\n",
    "        df['GOPWin'][idx]=1"
   ]
  },
  {
   "cell_type": "code",
   "execution_count": 69,
   "metadata": {},
   "outputs": [
    {
     "data": {
      "text/html": [
       "<div>\n",
       "<style scoped>\n",
       "    .dataframe tbody tr th:only-of-type {\n",
       "        vertical-align: middle;\n",
       "    }\n",
       "\n",
       "    .dataframe tbody tr th {\n",
       "        vertical-align: top;\n",
       "    }\n",
       "\n",
       "    .dataframe thead th {\n",
       "        text-align: right;\n",
       "    }\n",
       "</style>\n",
       "<table border=\"1\" class=\"dataframe\">\n",
       "  <thead>\n",
       "    <tr style=\"text-align: right;\">\n",
       "      <th></th>\n",
       "      <th>FIPS</th>\n",
       "      <th>County</th>\n",
       "      <th>DEM</th>\n",
       "      <th>GOP</th>\n",
       "      <th>MedianIncome</th>\n",
       "      <th>MigraRate</th>\n",
       "      <th>BirthRate</th>\n",
       "      <th>DeathRate</th>\n",
       "      <th>BachelorRate</th>\n",
       "      <th>UnemploymentRate</th>\n",
       "      <th>State</th>\n",
       "      <th>zip</th>\n",
       "      <th>primary_city</th>\n",
       "      <th>latitude</th>\n",
       "      <th>longitude</th>\n",
       "      <th>estimated_population</th>\n",
       "      <th>DEMWin</th>\n",
       "      <th>GOPWin</th>\n",
       "    </tr>\n",
       "  </thead>\n",
       "  <tbody>\n",
       "    <tr>\n",
       "      <th>0</th>\n",
       "      <td>1001</td>\n",
       "      <td>Autauga</td>\n",
       "      <td>5908</td>\n",
       "      <td>18110</td>\n",
       "      <td>54487</td>\n",
       "      <td>5.3</td>\n",
       "      <td>12.2</td>\n",
       "      <td>10.0</td>\n",
       "      <td>27.7</td>\n",
       "      <td>5.1</td>\n",
       "      <td>AL</td>\n",
       "      <td>36003.0</td>\n",
       "      <td>Autaugaville</td>\n",
       "      <td>32.43</td>\n",
       "      <td>-86.65</td>\n",
       "      <td>1628.0</td>\n",
       "      <td>0</td>\n",
       "      <td>1</td>\n",
       "    </tr>\n",
       "    <tr>\n",
       "      <th>1</th>\n",
       "      <td>1003</td>\n",
       "      <td>Baldwin</td>\n",
       "      <td>18409</td>\n",
       "      <td>72780</td>\n",
       "      <td>56460</td>\n",
       "      <td>21.5</td>\n",
       "      <td>11.2</td>\n",
       "      <td>9.8</td>\n",
       "      <td>31.3</td>\n",
       "      <td>5.3</td>\n",
       "      <td>AL</td>\n",
       "      <td>31034.0</td>\n",
       "      <td>Hardwick</td>\n",
       "      <td>32.99</td>\n",
       "      <td>-83.29</td>\n",
       "      <td>1741.0</td>\n",
       "      <td>0</td>\n",
       "      <td>1</td>\n",
       "    </tr>\n",
       "    <tr>\n",
       "      <th>2</th>\n",
       "      <td>1005</td>\n",
       "      <td>Barbour</td>\n",
       "      <td>4848</td>\n",
       "      <td>5431</td>\n",
       "      <td>32884</td>\n",
       "      <td>-18.2</td>\n",
       "      <td>10.6</td>\n",
       "      <td>10.8</td>\n",
       "      <td>12.2</td>\n",
       "      <td>8.3</td>\n",
       "      <td>AL</td>\n",
       "      <td>26238.0</td>\n",
       "      <td>Volga</td>\n",
       "      <td>39.06</td>\n",
       "      <td>-80.11</td>\n",
       "      <td>698.0</td>\n",
       "      <td>0</td>\n",
       "      <td>1</td>\n",
       "    </tr>\n",
       "    <tr>\n",
       "      <th>3</th>\n",
       "      <td>1007</td>\n",
       "      <td>Bibb</td>\n",
       "      <td>1874</td>\n",
       "      <td>6733</td>\n",
       "      <td>43079</td>\n",
       "      <td>-0.8</td>\n",
       "      <td>12.1</td>\n",
       "      <td>10.8</td>\n",
       "      <td>11.5</td>\n",
       "      <td>6.4</td>\n",
       "      <td>AL</td>\n",
       "      <td>31052.0</td>\n",
       "      <td>Lizella</td>\n",
       "      <td>32.76</td>\n",
       "      <td>-83.86</td>\n",
       "      <td>7592.0</td>\n",
       "      <td>0</td>\n",
       "      <td>1</td>\n",
       "    </tr>\n",
       "    <tr>\n",
       "      <th>4</th>\n",
       "      <td>1009</td>\n",
       "      <td>Blount</td>\n",
       "      <td>2150</td>\n",
       "      <td>22808</td>\n",
       "      <td>47213</td>\n",
       "      <td>-1.0</td>\n",
       "      <td>12.2</td>\n",
       "      <td>11.2</td>\n",
       "      <td>12.6</td>\n",
       "      <td>5.4</td>\n",
       "      <td>AL</td>\n",
       "      <td>35013.0</td>\n",
       "      <td>Allgood</td>\n",
       "      <td>33.90</td>\n",
       "      <td>-86.51</td>\n",
       "      <td>0.0</td>\n",
       "      <td>0</td>\n",
       "      <td>1</td>\n",
       "    </tr>\n",
       "    <tr>\n",
       "      <th>...</th>\n",
       "      <td>...</td>\n",
       "      <td>...</td>\n",
       "      <td>...</td>\n",
       "      <td>...</td>\n",
       "      <td>...</td>\n",
       "      <td>...</td>\n",
       "      <td>...</td>\n",
       "      <td>...</td>\n",
       "      <td>...</td>\n",
       "      <td>...</td>\n",
       "      <td>...</td>\n",
       "      <td>...</td>\n",
       "      <td>...</td>\n",
       "      <td>...</td>\n",
       "      <td>...</td>\n",
       "      <td>...</td>\n",
       "      <td>...</td>\n",
       "      <td>...</td>\n",
       "    </tr>\n",
       "    <tr>\n",
       "      <th>3138</th>\n",
       "      <td>56037</td>\n",
       "      <td>Sweetwater</td>\n",
       "      <td>3233</td>\n",
       "      <td>12153</td>\n",
       "      <td>74546</td>\n",
       "      <td>-17.9</td>\n",
       "      <td>14.0</td>\n",
       "      <td>6.8</td>\n",
       "      <td>22.0</td>\n",
       "      <td>6.1</td>\n",
       "      <td>WY</td>\n",
       "      <td>82322.0</td>\n",
       "      <td>Bairoil</td>\n",
       "      <td>42.23</td>\n",
       "      <td>-107.55</td>\n",
       "      <td>0.0</td>\n",
       "      <td>0</td>\n",
       "      <td>1</td>\n",
       "    </tr>\n",
       "    <tr>\n",
       "      <th>3139</th>\n",
       "      <td>56039</td>\n",
       "      <td>Teton</td>\n",
       "      <td>7313</td>\n",
       "      <td>3920</td>\n",
       "      <td>84118</td>\n",
       "      <td>-0.5</td>\n",
       "      <td>11.0</td>\n",
       "      <td>4.2</td>\n",
       "      <td>57.4</td>\n",
       "      <td>3.5</td>\n",
       "      <td>WY</td>\n",
       "      <td>59419.0</td>\n",
       "      <td>Bynum</td>\n",
       "      <td>48.04</td>\n",
       "      <td>-112.38</td>\n",
       "      <td>0.0</td>\n",
       "      <td>1</td>\n",
       "      <td>0</td>\n",
       "    </tr>\n",
       "    <tr>\n",
       "      <th>3140</th>\n",
       "      <td>56041</td>\n",
       "      <td>Uinta</td>\n",
       "      <td>1202</td>\n",
       "      <td>6154</td>\n",
       "      <td>64713</td>\n",
       "      <td>-11.3</td>\n",
       "      <td>14.3</td>\n",
       "      <td>6.9</td>\n",
       "      <td>15.4</td>\n",
       "      <td>5.8</td>\n",
       "      <td>WY</td>\n",
       "      <td>82930.0</td>\n",
       "      <td>Evanston</td>\n",
       "      <td>41.25</td>\n",
       "      <td>-110.96</td>\n",
       "      <td>10825.0</td>\n",
       "      <td>0</td>\n",
       "      <td>1</td>\n",
       "    </tr>\n",
       "    <tr>\n",
       "      <th>3141</th>\n",
       "      <td>56043</td>\n",
       "      <td>Washakie</td>\n",
       "      <td>532</td>\n",
       "      <td>2911</td>\n",
       "      <td>49533</td>\n",
       "      <td>-15.2</td>\n",
       "      <td>10.8</td>\n",
       "      <td>9.4</td>\n",
       "      <td>21.5</td>\n",
       "      <td>4.8</td>\n",
       "      <td>WY</td>\n",
       "      <td>82401.0</td>\n",
       "      <td>Worland</td>\n",
       "      <td>44.00</td>\n",
       "      <td>-107.95</td>\n",
       "      <td>6629.0</td>\n",
       "      <td>0</td>\n",
       "      <td>1</td>\n",
       "    </tr>\n",
       "    <tr>\n",
       "      <th>3142</th>\n",
       "      <td>56045</td>\n",
       "      <td>Weston</td>\n",
       "      <td>294</td>\n",
       "      <td>2898</td>\n",
       "      <td>56582</td>\n",
       "      <td>1.4</td>\n",
       "      <td>10.5</td>\n",
       "      <td>9.6</td>\n",
       "      <td>19.2</td>\n",
       "      <td>5.0</td>\n",
       "      <td>WY</td>\n",
       "      <td>82701.0</td>\n",
       "      <td>Newcastle</td>\n",
       "      <td>43.84</td>\n",
       "      <td>-104.21</td>\n",
       "      <td>4410.0</td>\n",
       "      <td>0</td>\n",
       "      <td>1</td>\n",
       "    </tr>\n",
       "  </tbody>\n",
       "</table>\n",
       "<p>3050 rows × 18 columns</p>\n",
       "</div>"
      ],
      "text/plain": [
       "       FIPS      County    DEM    GOP  MedianIncome  MigraRate  BirthRate  \\\n",
       "0      1001     Autauga   5908  18110         54487        5.3       12.2   \n",
       "1      1003     Baldwin  18409  72780         56460       21.5       11.2   \n",
       "2      1005     Barbour   4848   5431         32884      -18.2       10.6   \n",
       "3      1007        Bibb   1874   6733         43079       -0.8       12.1   \n",
       "4      1009      Blount   2150  22808         47213       -1.0       12.2   \n",
       "...     ...         ...    ...    ...           ...        ...        ...   \n",
       "3138  56037  Sweetwater   3233  12153         74546      -17.9       14.0   \n",
       "3139  56039       Teton   7313   3920         84118       -0.5       11.0   \n",
       "3140  56041       Uinta   1202   6154         64713      -11.3       14.3   \n",
       "3141  56043    Washakie    532   2911         49533      -15.2       10.8   \n",
       "3142  56045      Weston    294   2898         56582        1.4       10.5   \n",
       "\n",
       "      DeathRate  BachelorRate  UnemploymentRate State      zip  primary_city  \\\n",
       "0          10.0          27.7               5.1    AL  36003.0  Autaugaville   \n",
       "1           9.8          31.3               5.3    AL  31034.0      Hardwick   \n",
       "2          10.8          12.2               8.3    AL  26238.0         Volga   \n",
       "3          10.8          11.5               6.4    AL  31052.0       Lizella   \n",
       "4          11.2          12.6               5.4    AL  35013.0       Allgood   \n",
       "...         ...           ...               ...   ...      ...           ...   \n",
       "3138        6.8          22.0               6.1    WY  82322.0       Bairoil   \n",
       "3139        4.2          57.4               3.5    WY  59419.0         Bynum   \n",
       "3140        6.9          15.4               5.8    WY  82930.0      Evanston   \n",
       "3141        9.4          21.5               4.8    WY  82401.0       Worland   \n",
       "3142        9.6          19.2               5.0    WY  82701.0     Newcastle   \n",
       "\n",
       "      latitude  longitude  estimated_population  DEMWin  GOPWin  \n",
       "0        32.43     -86.65                1628.0       0       1  \n",
       "1        32.99     -83.29                1741.0       0       1  \n",
       "2        39.06     -80.11                 698.0       0       1  \n",
       "3        32.76     -83.86                7592.0       0       1  \n",
       "4        33.90     -86.51                   0.0       0       1  \n",
       "...        ...        ...                   ...     ...     ...  \n",
       "3138     42.23    -107.55                   0.0       0       1  \n",
       "3139     48.04    -112.38                   0.0       1       0  \n",
       "3140     41.25    -110.96               10825.0       0       1  \n",
       "3141     44.00    -107.95                6629.0       0       1  \n",
       "3142     43.84    -104.21                4410.0       0       1  \n",
       "\n",
       "[3050 rows x 18 columns]"
      ]
     },
     "execution_count": 69,
     "metadata": {},
     "output_type": "execute_result"
    }
   ],
   "source": [
    "df"
   ]
  },
  {
   "cell_type": "code",
   "execution_count": 94,
   "metadata": {},
   "outputs": [
    {
     "data": {
      "image/png": "[encoded data removed]",
      "text/plain": [
       "<Figure size 432x288 with 1 Axes>"
      ]
     },
     "metadata": {
      "needs_background": "light"
     },
     "output_type": "display_data"
    },
    {
     "data": {
      "image/png": "[encoded data removed]",
      "text/plain": [
       "<Figure size 432x288 with 1 Axes>"
      ]
     },
     "metadata": {
      "needs_background": "light"
     },
     "output_type": "display_data"
    }
   ],
   "source": [
    "plt.scatter(df['MedianIncome'], df['DEMWin'])\n",
    "\n",
    "plt.title('Median Income and DEM votes')\n",
    "plt.xlabel('Median Income')\n",
    "plt.ylabel('DEM')\n",
    "\n",
    "plt.show()\n",
    "\n",
    "bp = plt.boxplot([df.loc[df['DEMWin'] == 1]['MedianIncome'], df.loc[df['DEMWin'] == 0]['MedianIncome']])\n",
    "plt.title('Median Income Boxplot')\n",
    "plt.xticks([1,2],['DEM Counties','GOP Counties'])\n",
    "\n",
    "plt.show()"
   ]
  },
  {
   "cell_type": "code",
   "execution_count": 95,
   "metadata": {},
   "outputs": [
    {
     "data": {
      "image/png": "[encoded data removed]",
      "text/plain": [
       "<Figure size 432x288 with 1 Axes>"
      ]
     },
     "metadata": {
      "needs_background": "light"
     },
     "output_type": "display_data"
    }
   ],
   "source": [
    "plt.scatter(df['MedianIncome'], df['GOPWin'])\n",
    "\n",
    "plt.title('Median Income and GOP votes')\n",
    "plt.xlabel('Median Income')\n",
    "plt.ylabel('GOPWin')\n",
    "\n",
    "plt.show()"
   ]
  },
  {
   "cell_type": "code",
   "execution_count": 96,
   "metadata": {},
   "outputs": [
    {
     "data": {
      "image/png": "[encoded data removed]",
      "text/plain": [
       "<Figure size 432x288 with 1 Axes>"
      ]
     },
     "metadata": {
      "needs_background": "light"
     },
     "output_type": "display_data"
    },
    {
     "data": {
      "image/png": "[encoded data removed]",
      "text/plain": [
       "<Figure size 432x288 with 1 Axes>"
      ]
     },
     "metadata": {
      "needs_background": "light"
     },
     "output_type": "display_data"
    }
   ],
   "source": [
    "plt.scatter(df['BachelorRate'], df['DEMWin'])\n",
    "\n",
    "plt.title('Bachelors Rate and DEM votes')\n",
    "plt.xlabel('Bachelors Rate')\n",
    "plt.ylabel('DEMWin')\n",
    "\n",
    "plt.show()\n",
    "\n",
    "bp = plt.boxplot([df.loc[df['DEMWin'] == 1]['BachelorRate'], df.loc[df['DEMWin'] == 0]['BachelorRate']])\n",
    "plt.title('Bachelors Rate Boxplot')\n",
    "plt.xticks([1,2],['DEM Counties','GOP Counties'])\n",
    "\n",
    "plt.show()"
   ]
  },
  {
   "cell_type": "markdown",
   "metadata": {},
   "source": [
    "Bachelors Rate looks like it has some come relation."
   ]
  },
  {
   "cell_type": "code",
   "execution_count": 97,
   "metadata": {},
   "outputs": [
    {
     "data": {
      "image/png": "[encoded data removed]",
      "text/plain": [
       "<Figure size 432x288 with 1 Axes>"
      ]
     },
     "metadata": {
      "needs_background": "light"
     },
     "output_type": "display_data"
    }
   ],
   "source": [
    "plt.scatter(df['BachelorRate'], df['GOPWin'])\n",
    "\n",
    "plt.title('Bachelors Rate and GOP votes')\n",
    "plt.xlabel('Bachelors Rate')\n",
    "plt.ylabel('GOPWin')\n",
    "\n",
    "plt.show()"
   ]
  },
  {
   "cell_type": "code",
   "execution_count": 98,
   "metadata": {},
   "outputs": [
    {
     "data": {
      "image/png": "[encoded data removed]",
      "text/plain": [
       "<Figure size 432x288 with 1 Axes>"
      ]
     },
     "metadata": {
      "needs_background": "light"
     },
     "output_type": "display_data"
    },
    {
     "data": {
      "image/png": "[encoded data removed]",
      "text/plain": [
       "<Figure size 432x288 with 1 Axes>"
      ]
     },
     "metadata": {
      "needs_background": "light"
     },
     "output_type": "display_data"
    }
   ],
   "source": [
    "plt.scatter(df['UnemploymentRate'], df['DEMWin'])\n",
    "\n",
    "plt.title('Unemployment Rate and DEM votes')\n",
    "plt.xlabel('Unemployment Rate')\n",
    "plt.ylabel('DEMWin')\n",
    "\n",
    "plt.show()\n",
    "\n",
    "bp = plt.boxplot([df.loc[df['DEMWin'] == 1]['UnemploymentRate'], df.loc[df['DEMWin'] == 0]['UnemploymentRate']])\n",
    "plt.title('Unemployment Rate Boxplot')\n",
    "plt.xticks([1,2],['DEM Counties','GOP Counties'])\n",
    "\n",
    "plt.show()"
   ]
  },
  {
   "cell_type": "code",
   "execution_count": 75,
   "metadata": {},
   "outputs": [
    {
     "data": {
      "image/png": "[encoded data removed]",
      "text/plain": [
       "<Figure size 432x288 with 1 Axes>"
      ]
     },
     "metadata": {
      "needs_background": "light"
     },
     "output_type": "display_data"
    }
   ],
   "source": [
    "plt.scatter(df['UnemploymentRate'], df['GOPWin'])\n",
    "\n",
    "plt.title('Unemployment Rate and GOP votes')\n",
    "plt.xlabel('Unemployment Rate')\n",
    "plt.ylabel('GOPWin')\n",
    "\n",
    "plt.show()"
   ]
  },
  {
   "cell_type": "code",
   "execution_count": 99,
   "metadata": {},
   "outputs": [
    {
     "data": {
      "image/png": "[encoded data removed]",
      "text/plain": [
       "<Figure size 432x288 with 1 Axes>"
      ]
     },
     "metadata": {
      "needs_background": "light"
     },
     "output_type": "display_data"
    },
    {
     "data": {
      "image/png": "[encoded data removed]",
      "text/plain": [
       "<Figure size 432x288 with 1 Axes>"
      ]
     },
     "metadata": {
      "needs_background": "light"
     },
     "output_type": "display_data"
    }
   ],
   "source": [
    "plt.scatter(df['MigraRate'], df['DEMWin'])\n",
    "\n",
    "plt.title('Migration Rate and DEM votes')\n",
    "plt.xlabel('Migration Rate')\n",
    "plt.ylabel('DEMWin')\n",
    "\n",
    "plt.show()\n",
    "\n",
    "bp = plt.boxplot([df.loc[df['DEMWin'] == 1]['MigraRate'], df.loc[df['DEMWin'] == 0]['MigraRate']])\n",
    "plt.title('Migration Rate Boxplot')\n",
    "plt.xticks([1,2],['DEM Counties','GOP Counties'])\n",
    "\n",
    "plt.show()"
   ]
  },
  {
   "cell_type": "code",
   "execution_count": 100,
   "metadata": {},
   "outputs": [
    {
     "data": {
      "image/png": "[encoded data removed]",
      "text/plain": [
       "<Figure size 432x288 with 1 Axes>"
      ]
     },
     "metadata": {
      "needs_background": "light"
     },
     "output_type": "display_data"
    }
   ],
   "source": [
    "plt.scatter(df['MigraRate'], df['GOPWin'])\n",
    "\n",
    "plt.title('Migration Rate and GOP votes')\n",
    "plt.xlabel('Migration Rate')\n",
    "plt.ylabel('GOPWin')\n",
    "\n",
    "plt.show()"
   ]
  },
  {
   "cell_type": "code",
   "execution_count": 101,
   "metadata": {},
   "outputs": [
    {
     "data": {
      "image/png": "[encoded data removed]",
      "text/plain": [
       "<Figure size 432x288 with 1 Axes>"
      ]
     },
     "metadata": {
      "needs_background": "light"
     },
     "output_type": "display_data"
    },
    {
     "data": {
      "image/png": "[encoded data removed]",
      "text/plain": [
       "<Figure size 432x288 with 1 Axes>"
      ]
     },
     "metadata": {
      "needs_background": "light"
     },
     "output_type": "display_data"
    }
   ],
   "source": [
    "plt.scatter(df['BirthRate'], df['DEMWin'])\n",
    "\n",
    "plt.title('Birth Rate and DEM votes')\n",
    "plt.xlabel('Birth Rate')\n",
    "plt.ylabel('DEMWin')\n",
    "\n",
    "plt.show()\n",
    "\n",
    "bp = plt.boxplot([df.loc[df['DEMWin'] == 1]['BirthRate'], df.loc[df['DEMWin'] == 0]['BirthRate']])\n",
    "plt.title('Birth Rate Boxplot')\n",
    "plt.xticks([1,2],['DEM Counties','GOP Counties'])\n",
    "\n",
    "plt.show()"
   ]
  },
  {
   "cell_type": "code",
   "execution_count": 102,
   "metadata": {},
   "outputs": [
    {
     "data": {
      "image/png": "[encoded data removed]",
      "text/plain": [
       "<Figure size 432x288 with 1 Axes>"
      ]
     },
     "metadata": {
      "needs_background": "light"
     },
     "output_type": "display_data"
    },
    {
     "data": {
      "image/png": "[encoded data removed]",
      "text/plain": [
       "<Figure size 432x288 with 1 Axes>"
      ]
     },
     "metadata": {
      "needs_background": "light"
     },
     "output_type": "display_data"
    }
   ],
   "source": [
    "plt.scatter(df['DeathRate'], df['DEMWin'])\n",
    "\n",
    "plt.title('Death Rate and DEM votes')\n",
    "plt.xlabel('Death Rate')\n",
    "plt.ylabel('DEMWin')\n",
    "\n",
    "plt.show()\n",
    "\n",
    "bp = plt.boxplot([df.loc[df['DEMWin'] == 1]['DeathRate'], df.loc[df['DEMWin'] == 0]['DeathRate']])\n",
    "plt.title('Death Rate Boxplot')\n",
    "plt.xticks([1,2],['DEM Counties','GOP Counties'])\n",
    "\n",
    "plt.show()"
   ]
  },
  {
   "cell_type": "code",
   "execution_count": 103,
   "metadata": {},
   "outputs": [
    {
     "data": {
      "image/png": "[encoded data removed]",
      "text/plain": [
       "<Figure size 432x288 with 1 Axes>"
      ]
     },
     "metadata": {
      "needs_background": "light"
     },
     "output_type": "display_data"
    },
    {
     "data": {
      "image/png": "[encoded data removed]",
      "text/plain": [
       "<Figure size 432x288 with 1 Axes>"
      ]
     },
     "metadata": {
      "needs_background": "light"
     },
     "output_type": "display_data"
    }
   ],
   "source": [
    "plt.scatter(df['latitude'], df['DEMWin'])\n",
    "\n",
    "plt.title('Latitude and DEM votes')\n",
    "plt.xlabel('Latitude')\n",
    "plt.ylabel('DEMWin')\n",
    "\n",
    "plt.show()\n",
    "\n",
    "bp = plt.boxplot([df.loc[df['DEMWin'] == 1]['latitude'], df.loc[df['DEMWin'] == 0]['latitude']])\n",
    "plt.title('Latitude Boxplot')\n",
    "plt.xticks([1,2],['DEM Counties','GOP Counties'])\n",
    "\n",
    "plt.show()"
   ]
  },
  {
   "cell_type": "code",
   "execution_count": 104,
   "metadata": {},
   "outputs": [
    {
     "data": {
      "image/png": "[encoded data removed]",
      "text/plain": [
       "<Figure size 432x288 with 1 Axes>"
      ]
     },
     "metadata": {
      "needs_background": "light"
     },
     "output_type": "display_data"
    },
    {
     "data": {
      "image/png": "[encoded data removed]",
      "text/plain": [
       "<Figure size 432x288 with 1 Axes>"
      ]
     },
     "metadata": {
      "needs_background": "light"
     },
     "output_type": "display_data"
    }
   ],
   "source": [
    "plt.scatter(df['longitude'], df['DEMWin'])\n",
    "\n",
    "plt.title('Longitude and DEM votes')\n",
    "plt.xlabel('Longitude')\n",
    "plt.ylabel('DEMWin')\n",
    "\n",
    "plt.show()\n",
    "\n",
    "bp = plt.boxplot([df.loc[df['DEMWin'] == 1]['longitude'], df.loc[df['DEMWin'] == 0]['longitude']])\n",
    "plt.title('Longitude Boxplot')\n",
    "plt.xticks([1,2],['DEM Counties','GOP Counties'])\n",
    "\n",
    "plt.show()"
   ]
  },
  {
   "cell_type": "markdown",
   "metadata": {},
   "source": [
    "Regress on ratio???"
   ]
  },
  {
   "cell_type": "code",
   "execution_count": 76,
   "metadata": {},
   "outputs": [],
   "source": [
    "df['DEM/GOP']=df['DEM']/df[\"GOP\"]"
   ]
  },
  {
   "cell_type": "code",
   "execution_count": 77,
   "metadata": {},
   "outputs": [
    {
     "data": {
      "text/html": [
       "<div>\n",
       "<style scoped>\n",
       "    .dataframe tbody tr th:only-of-type {\n",
       "        vertical-align: middle;\n",
       "    }\n",
       "\n",
       "    .dataframe tbody tr th {\n",
       "        vertical-align: top;\n",
       "    }\n",
       "\n",
       "    .dataframe thead th {\n",
       "        text-align: right;\n",
       "    }\n",
       "</style>\n",
       "<table border=\"1\" class=\"dataframe\">\n",
       "  <thead>\n",
       "    <tr style=\"text-align: right;\">\n",
       "      <th></th>\n",
       "      <th>FIPS</th>\n",
       "      <th>County</th>\n",
       "      <th>DEM</th>\n",
       "      <th>GOP</th>\n",
       "      <th>MedianIncome</th>\n",
       "      <th>MigraRate</th>\n",
       "      <th>BirthRate</th>\n",
       "      <th>DeathRate</th>\n",
       "      <th>BachelorRate</th>\n",
       "      <th>UnemploymentRate</th>\n",
       "      <th>State</th>\n",
       "      <th>zip</th>\n",
       "      <th>primary_city</th>\n",
       "      <th>latitude</th>\n",
       "      <th>longitude</th>\n",
       "      <th>estimated_population</th>\n",
       "      <th>DEMWin</th>\n",
       "      <th>GOPWin</th>\n",
       "      <th>DEM/GOP</th>\n",
       "    </tr>\n",
       "  </thead>\n",
       "  <tbody>\n",
       "    <tr>\n",
       "      <th>0</th>\n",
       "      <td>1001</td>\n",
       "      <td>Autauga</td>\n",
       "      <td>5908</td>\n",
       "      <td>18110</td>\n",
       "      <td>54487</td>\n",
       "      <td>5.3</td>\n",
       "      <td>12.2</td>\n",
       "      <td>10.0</td>\n",
       "      <td>27.7</td>\n",
       "      <td>5.1</td>\n",
       "      <td>AL</td>\n",
       "      <td>36003.0</td>\n",
       "      <td>Autaugaville</td>\n",
       "      <td>32.43</td>\n",
       "      <td>-86.65</td>\n",
       "      <td>1628.0</td>\n",
       "      <td>0</td>\n",
       "      <td>1</td>\n",
       "      <td>0.326229</td>\n",
       "    </tr>\n",
       "    <tr>\n",
       "      <th>1</th>\n",
       "      <td>1003</td>\n",
       "      <td>Baldwin</td>\n",
       "      <td>18409</td>\n",
       "      <td>72780</td>\n",
       "      <td>56460</td>\n",
       "      <td>21.5</td>\n",
       "      <td>11.2</td>\n",
       "      <td>9.8</td>\n",
       "      <td>31.3</td>\n",
       "      <td>5.3</td>\n",
       "      <td>AL</td>\n",
       "      <td>31034.0</td>\n",
       "      <td>Hardwick</td>\n",
       "      <td>32.99</td>\n",
       "      <td>-83.29</td>\n",
       "      <td>1741.0</td>\n",
       "      <td>0</td>\n",
       "      <td>1</td>\n",
       "      <td>0.252940</td>\n",
       "    </tr>\n",
       "    <tr>\n",
       "      <th>2</th>\n",
       "      <td>1005</td>\n",
       "      <td>Barbour</td>\n",
       "      <td>4848</td>\n",
       "      <td>5431</td>\n",
       "      <td>32884</td>\n",
       "      <td>-18.2</td>\n",
       "      <td>10.6</td>\n",
       "      <td>10.8</td>\n",
       "      <td>12.2</td>\n",
       "      <td>8.3</td>\n",
       "      <td>AL</td>\n",
       "      <td>26238.0</td>\n",
       "      <td>Volga</td>\n",
       "      <td>39.06</td>\n",
       "      <td>-80.11</td>\n",
       "      <td>698.0</td>\n",
       "      <td>0</td>\n",
       "      <td>1</td>\n",
       "      <td>0.892653</td>\n",
       "    </tr>\n",
       "    <tr>\n",
       "      <th>3</th>\n",
       "      <td>1007</td>\n",
       "      <td>Bibb</td>\n",
       "      <td>1874</td>\n",
       "      <td>6733</td>\n",
       "      <td>43079</td>\n",
       "      <td>-0.8</td>\n",
       "      <td>12.1</td>\n",
       "      <td>10.8</td>\n",
       "      <td>11.5</td>\n",
       "      <td>6.4</td>\n",
       "      <td>AL</td>\n",
       "      <td>31052.0</td>\n",
       "      <td>Lizella</td>\n",
       "      <td>32.76</td>\n",
       "      <td>-83.86</td>\n",
       "      <td>7592.0</td>\n",
       "      <td>0</td>\n",
       "      <td>1</td>\n",
       "      <td>0.278331</td>\n",
       "    </tr>\n",
       "    <tr>\n",
       "      <th>4</th>\n",
       "      <td>1009</td>\n",
       "      <td>Blount</td>\n",
       "      <td>2150</td>\n",
       "      <td>22808</td>\n",
       "      <td>47213</td>\n",
       "      <td>-1.0</td>\n",
       "      <td>12.2</td>\n",
       "      <td>11.2</td>\n",
       "      <td>12.6</td>\n",
       "      <td>5.4</td>\n",
       "      <td>AL</td>\n",
       "      <td>35013.0</td>\n",
       "      <td>Allgood</td>\n",
       "      <td>33.90</td>\n",
       "      <td>-86.51</td>\n",
       "      <td>0.0</td>\n",
       "      <td>0</td>\n",
       "      <td>1</td>\n",
       "      <td>0.094265</td>\n",
       "    </tr>\n",
       "    <tr>\n",
       "      <th>...</th>\n",
       "      <td>...</td>\n",
       "      <td>...</td>\n",
       "      <td>...</td>\n",
       "      <td>...</td>\n",
       "      <td>...</td>\n",
       "      <td>...</td>\n",
       "      <td>...</td>\n",
       "      <td>...</td>\n",
       "      <td>...</td>\n",
       "      <td>...</td>\n",
       "      <td>...</td>\n",
       "      <td>...</td>\n",
       "      <td>...</td>\n",
       "      <td>...</td>\n",
       "      <td>...</td>\n",
       "      <td>...</td>\n",
       "      <td>...</td>\n",
       "      <td>...</td>\n",
       "      <td>...</td>\n",
       "    </tr>\n",
       "    <tr>\n",
       "      <th>3138</th>\n",
       "      <td>56037</td>\n",
       "      <td>Sweetwater</td>\n",
       "      <td>3233</td>\n",
       "      <td>12153</td>\n",
       "      <td>74546</td>\n",
       "      <td>-17.9</td>\n",
       "      <td>14.0</td>\n",
       "      <td>6.8</td>\n",
       "      <td>22.0</td>\n",
       "      <td>6.1</td>\n",
       "      <td>WY</td>\n",
       "      <td>82322.0</td>\n",
       "      <td>Bairoil</td>\n",
       "      <td>42.23</td>\n",
       "      <td>-107.55</td>\n",
       "      <td>0.0</td>\n",
       "      <td>0</td>\n",
       "      <td>1</td>\n",
       "      <td>0.266025</td>\n",
       "    </tr>\n",
       "    <tr>\n",
       "      <th>3139</th>\n",
       "      <td>56039</td>\n",
       "      <td>Teton</td>\n",
       "      <td>7313</td>\n",
       "      <td>3920</td>\n",
       "      <td>84118</td>\n",
       "      <td>-0.5</td>\n",
       "      <td>11.0</td>\n",
       "      <td>4.2</td>\n",
       "      <td>57.4</td>\n",
       "      <td>3.5</td>\n",
       "      <td>WY</td>\n",
       "      <td>59419.0</td>\n",
       "      <td>Bynum</td>\n",
       "      <td>48.04</td>\n",
       "      <td>-112.38</td>\n",
       "      <td>0.0</td>\n",
       "      <td>1</td>\n",
       "      <td>0</td>\n",
       "      <td>1.865561</td>\n",
       "    </tr>\n",
       "    <tr>\n",
       "      <th>3140</th>\n",
       "      <td>56041</td>\n",
       "      <td>Uinta</td>\n",
       "      <td>1202</td>\n",
       "      <td>6154</td>\n",
       "      <td>64713</td>\n",
       "      <td>-11.3</td>\n",
       "      <td>14.3</td>\n",
       "      <td>6.9</td>\n",
       "      <td>15.4</td>\n",
       "      <td>5.8</td>\n",
       "      <td>WY</td>\n",
       "      <td>82930.0</td>\n",
       "      <td>Evanston</td>\n",
       "      <td>41.25</td>\n",
       "      <td>-110.96</td>\n",
       "      <td>10825.0</td>\n",
       "      <td>0</td>\n",
       "      <td>1</td>\n",
       "      <td>0.195320</td>\n",
       "    </tr>\n",
       "    <tr>\n",
       "      <th>3141</th>\n",
       "      <td>56043</td>\n",
       "      <td>Washakie</td>\n",
       "      <td>532</td>\n",
       "      <td>2911</td>\n",
       "      <td>49533</td>\n",
       "      <td>-15.2</td>\n",
       "      <td>10.8</td>\n",
       "      <td>9.4</td>\n",
       "      <td>21.5</td>\n",
       "      <td>4.8</td>\n",
       "      <td>WY</td>\n",
       "      <td>82401.0</td>\n",
       "      <td>Worland</td>\n",
       "      <td>44.00</td>\n",
       "      <td>-107.95</td>\n",
       "      <td>6629.0</td>\n",
       "      <td>0</td>\n",
       "      <td>1</td>\n",
       "      <td>0.182755</td>\n",
       "    </tr>\n",
       "    <tr>\n",
       "      <th>3142</th>\n",
       "      <td>56045</td>\n",
       "      <td>Weston</td>\n",
       "      <td>294</td>\n",
       "      <td>2898</td>\n",
       "      <td>56582</td>\n",
       "      <td>1.4</td>\n",
       "      <td>10.5</td>\n",
       "      <td>9.6</td>\n",
       "      <td>19.2</td>\n",
       "      <td>5.0</td>\n",
       "      <td>WY</td>\n",
       "      <td>82701.0</td>\n",
       "      <td>Newcastle</td>\n",
       "      <td>43.84</td>\n",
       "      <td>-104.21</td>\n",
       "      <td>4410.0</td>\n",
       "      <td>0</td>\n",
       "      <td>1</td>\n",
       "      <td>0.101449</td>\n",
       "    </tr>\n",
       "  </tbody>\n",
       "</table>\n",
       "<p>3050 rows × 19 columns</p>\n",
       "</div>"
      ],
      "text/plain": [
       "       FIPS      County    DEM    GOP  MedianIncome  MigraRate  BirthRate  \\\n",
       "0      1001     Autauga   5908  18110         54487        5.3       12.2   \n",
       "1      1003     Baldwin  18409  72780         56460       21.5       11.2   \n",
       "2      1005     Barbour   4848   5431         32884      -18.2       10.6   \n",
       "3      1007        Bibb   1874   6733         43079       -0.8       12.1   \n",
       "4      1009      Blount   2150  22808         47213       -1.0       12.2   \n",
       "...     ...         ...    ...    ...           ...        ...        ...   \n",
       "3138  56037  Sweetwater   3233  12153         74546      -17.9       14.0   \n",
       "3139  56039       Teton   7313   3920         84118       -0.5       11.0   \n",
       "3140  56041       Uinta   1202   6154         64713      -11.3       14.3   \n",
       "3141  56043    Washakie    532   2911         49533      -15.2       10.8   \n",
       "3142  56045      Weston    294   2898         56582        1.4       10.5   \n",
       "\n",
       "      DeathRate  BachelorRate  UnemploymentRate State      zip  primary_city  \\\n",
       "0          10.0          27.7               5.1    AL  36003.0  Autaugaville   \n",
       "1           9.8          31.3               5.3    AL  31034.0      Hardwick   \n",
       "2          10.8          12.2               8.3    AL  26238.0         Volga   \n",
       "3          10.8          11.5               6.4    AL  31052.0       Lizella   \n",
       "4          11.2          12.6               5.4    AL  35013.0       Allgood   \n",
       "...         ...           ...               ...   ...      ...           ...   \n",
       "3138        6.8          22.0               6.1    WY  82322.0       Bairoil   \n",
       "3139        4.2          57.4               3.5    WY  59419.0         Bynum   \n",
       "3140        6.9          15.4               5.8    WY  82930.0      Evanston   \n",
       "3141        9.4          21.5               4.8    WY  82401.0       Worland   \n",
       "3142        9.6          19.2               5.0    WY  82701.0     Newcastle   \n",
       "\n",
       "      latitude  longitude  estimated_population  DEMWin  GOPWin   DEM/GOP  \n",
       "0        32.43     -86.65                1628.0       0       1  0.326229  \n",
       "1        32.99     -83.29                1741.0       0       1  0.252940  \n",
       "2        39.06     -80.11                 698.0       0       1  0.892653  \n",
       "3        32.76     -83.86                7592.0       0       1  0.278331  \n",
       "4        33.90     -86.51                   0.0       0       1  0.094265  \n",
       "...        ...        ...                   ...     ...     ...       ...  \n",
       "3138     42.23    -107.55                   0.0       0       1  0.266025  \n",
       "3139     48.04    -112.38                   0.0       1       0  1.865561  \n",
       "3140     41.25    -110.96               10825.0       0       1  0.195320  \n",
       "3141     44.00    -107.95                6629.0       0       1  0.182755  \n",
       "3142     43.84    -104.21                4410.0       0       1  0.101449  \n",
       "\n",
       "[3050 rows x 19 columns]"
      ]
     },
     "execution_count": 77,
     "metadata": {},
     "output_type": "execute_result"
    }
   ],
   "source": [
    "df"
   ]
  },
  {
   "cell_type": "code",
   "execution_count": 78,
   "metadata": {},
   "outputs": [
    {
     "data": {
      "image/png": "[encoded data removed]",
      "text/plain": [
       "<Figure size 432x288 with 1 Axes>"
      ]
     },
     "metadata": {
      "needs_background": "light"
     },
     "output_type": "display_data"
    }
   ],
   "source": [
    "plt.scatter(df['MedianIncome'], df['DEM/GOP'])\n",
    "\n",
    "plt.title('Median Income and DEM/GOP votes')\n",
    "plt.xlabel('Median Income')\n",
    "plt.ylabel('DEM/GOP')\n",
    "\n",
    "plt.show()"
   ]
  },
  {
   "cell_type": "code",
   "execution_count": 79,
   "metadata": {},
   "outputs": [
    {
     "data": {
      "image/png": "[encoded data removed]",
      "text/plain": [
       "<Figure size 432x288 with 1 Axes>"
      ]
     },
     "metadata": {
      "needs_background": "light"
     },
     "output_type": "display_data"
    }
   ],
   "source": [
    "plt.scatter(df['BachelorRate'], df['DEM/GOP'])\n",
    "\n",
    "plt.title('Bachelors Rate and DEM/GOP votes')\n",
    "plt.xlabel('Bachelors Rate')\n",
    "plt.ylabel('DEM/GOP')\n",
    "\n",
    "plt.show()"
   ]
  },
  {
   "cell_type": "code",
   "execution_count": 80,
   "metadata": {},
   "outputs": [
    {
     "data": {
      "image/png": "[encoded data removed]",
      "text/plain": [
       "<Figure size 432x288 with 1 Axes>"
      ]
     },
     "metadata": {
      "needs_background": "light"
     },
     "output_type": "display_data"
    }
   ],
   "source": [
    "plt.scatter(df['UnemploymentRate'], df['DEM/GOP'])\n",
    "\n",
    "plt.title('Unemployment Rate and DEM/GOP votes')\n",
    "plt.xlabel('Unemployment Rate')\n",
    "plt.ylabel('DEM/GOP')\n",
    "\n",
    "plt.show()"
   ]
  },
  {
   "cell_type": "code",
   "execution_count": 86,
   "metadata": {},
   "outputs": [
    {
     "data": {
      "image/png": "[encoded data removed]",
      "text/plain": [
       "<Figure size 432x288 with 1 Axes>"
      ]
     },
     "metadata": {
      "needs_background": "light"
     },
     "output_type": "display_data"
    }
   ],
   "source": [
    "plt.scatter(df['MigraRate'], df['DEM/GOP'])\n",
    "\n",
    "plt.title('Migration Rate and DEM/GOP votes')\n",
    "plt.xlabel('Migration Rate')\n",
    "plt.ylabel('DEM/GOP')\n",
    "\n",
    "plt.show()"
   ]
  },
  {
   "cell_type": "code",
   "execution_count": 87,
   "metadata": {},
   "outputs": [
    {
     "data": {
      "image/png": "[encoded data removed]",
      "text/plain": [
       "<Figure size 432x288 with 1 Axes>"
      ]
     },
     "metadata": {
      "needs_background": "light"
     },
     "output_type": "display_data"
    }
   ],
   "source": [
    "plt.scatter(df['BirthRate'], df['DEM/GOP'])\n",
    "\n",
    "plt.title('Birth Rate and DEM/GOP votes')\n",
    "plt.xlabel('Birth Rate')\n",
    "plt.ylabel('DEM/GOP')\n",
    "\n",
    "plt.show()"
   ]
  },
  {
   "cell_type": "code",
   "execution_count": 88,
   "metadata": {},
   "outputs": [
    {
     "data": {
      "image/png": "[encoded data removed]",
      "text/plain": [
       "<Figure size 432x288 with 1 Axes>"
      ]
     },
     "metadata": {
      "needs_background": "light"
     },
     "output_type": "display_data"
    }
   ],
   "source": [
    "plt.scatter(df['DeathRate'], df['DEM/GOP'])\n",
    "\n",
    "plt.title('Death Rate and DEM/GOP votes')\n",
    "plt.xlabel('Death Rate')\n",
    "plt.ylabel('DEM/GOP')\n",
    "\n",
    "plt.show()"
   ]
  },
  {
   "cell_type": "markdown",
   "metadata": {},
   "source": [
    "Binary graph looks like it has some correlation, attempt for classification:"
   ]
  },
  {
   "cell_type": "code",
   "execution_count": 105,
   "metadata": {},
   "outputs": [
    {
     "data": {
      "text/plain": [
       "Index(['FIPS', 'County', 'DEM', 'GOP', 'MedianIncome', 'MigraRate',\n",
       "       'BirthRate', 'DeathRate', 'BachelorRate', 'UnemploymentRate', 'State',\n",
       "       'zip', 'primary_city', 'latitude', 'longitude', 'estimated_population',\n",
       "       'DEMWin', 'GOPWin', 'DEM/GOP'],\n",
       "      dtype='object')"
      ]
     },
     "execution_count": 105,
     "metadata": {},
     "output_type": "execute_result"
    }
   ],
   "source": [
    "df.columns"
   ]
  },
  {
   "cell_type": "code",
   "execution_count": 111,
   "metadata": {},
   "outputs": [],
   "source": [
    "X = df[['BachelorRate', 'MedianIncome', 'DeathRate', 'DeathRate']].copy()\n",
    "y = df['DEMWin']"
   ]
  },
  {
   "cell_type": "markdown",
   "metadata": {},
   "source": [
    "KNN?"
   ]
  },
  {
   "cell_type": "code",
   "execution_count": 113,
   "metadata": {},
   "outputs": [
    {
     "data": {
      "text/plain": [
       "0.8524590163934426"
      ]
     },
     "execution_count": 113,
     "metadata": {},
     "output_type": "execute_result"
    }
   ],
   "source": [
    "from sklearn.model_selection import train_test_split\n",
    "from sklearn.neighbors import KNeighborsClassifier\n",
    "from sklearn.metrics import accuracy_score\n",
    "\n",
    "# fit data\n",
    "x_train, x_test, y_train, y_test = train_test_split(X, y, test_size=0.2, random_state=42)\n",
    "model = KNeighborsClassifier()\n",
    "model.fit(x_train, y_train)\n",
    "\n",
    "# generate predictions\n",
    "predictions = model.predict(x_test)\n",
    "\n",
    "# test accuracy\n",
    "accuracy_score(y_test, predictions)"
   ]
  },
  {
   "cell_type": "code",
   "execution_count": 140,
   "metadata": {},
   "outputs": [],
   "source": [
    "X = df[['BachelorRate', 'MedianIncome', 'DeathRate', 'DeathRate', 'latitude', 'longitude']].copy()\n",
    "y = df['DEMWin']"
   ]
  },
  {
   "cell_type": "code",
   "execution_count": 141,
   "metadata": {},
   "outputs": [
    {
     "data": {
      "text/plain": [
       "0.8557377049180328"
      ]
     },
     "execution_count": 141,
     "metadata": {},
     "output_type": "execute_result"
    }
   ],
   "source": [
    "# fit data\n",
    "x_train, x_test, y_train, y_test = train_test_split(X, y, test_size=0.2, random_state=42)\n",
    "model = KNeighborsClassifier()\n",
    "model.fit(x_train, y_train)\n",
    "\n",
    "# generate predictions\n",
    "predictions = model.predict(x_test)\n",
    "\n",
    "# test accuracy\n",
    "accuracy_score(y_test, predictions)"
   ]
  },
  {
   "cell_type": "markdown",
   "metadata": {},
   "source": [
    "wtf bro\n",
    "\n",
    "lets do valiadation"
   ]
  },
  {
   "cell_type": "code",
   "execution_count": 142,
   "metadata": {},
   "outputs": [],
   "source": [
    "accuracy=[]\n",
    "for k in range(1,31):\n",
    "    model = KNeighborsClassifier(k)\n",
    "    model.fit(x_train, y_train)\n",
    "    predictions = model.predict(x_test)\n",
    "    accuracy.append(accuracy_score(predictions, y_test))"
   ]
  },
  {
   "cell_type": "code",
   "execution_count": 143,
   "metadata": {},
   "outputs": [
    {
     "data": {
      "image/png": "[encoded data removed]",
      "text/plain": [
       "<Figure size 432x288 with 1 Axes>"
      ]
     },
     "metadata": {
      "needs_background": "light"
     },
     "output_type": "display_data"
    }
   ],
   "source": [
    "plt.plot(range(1,31),accuracy)\n",
    "plt.xticks(range(1,31,2),range(1,31,2))\n",
    "plt.xlabel(\"K Number of Neighbors\")\n",
    "plt.ylabel(\"Accuracy Score\")\n",
    "plt.grid()"
   ]
  },
  {
   "cell_type": "markdown",
   "metadata": {},
   "source": [
    "TODO tests lol\n",
    "\n",
    "Now maybe logistic regression?"
   ]
  },
  {
   "cell_type": "code",
   "execution_count": 144,
   "metadata": {},
   "outputs": [
    {
     "data": {
      "text/plain": [
       "0.8704918032786885"
      ]
     },
     "execution_count": 144,
     "metadata": {},
     "output_type": "execute_result"
    }
   ],
   "source": [
    "from sklearn.linear_model import LogisticRegression\n",
    "# LogisticRegression(multi_class='multinomial',solver ='newton-cg').fit(X_train,y_train)\n",
    "\n",
    "# build model and fit on train set\n",
    "logit = LogisticRegression()\n",
    "logit.fit(x_train, y_train)\n",
    "\n",
    "# make predictions on test set\n",
    "pred_logit = logit.predict(x_test)\n",
    "\n",
    "# measure accuracy\n",
    "accuracy_score(y_true = y_test, y_pred = pred_logit)"
   ]
  },
  {
   "cell_type": "markdown",
   "metadata": {},
   "source": [
    "a bit better i guess but let's try decision trees as well"
   ]
  },
  {
   "cell_type": "code",
   "execution_count": 145,
   "metadata": {},
   "outputs": [
    {
     "name": "stdout",
     "output_type": "stream",
     "text": [
      "0.8390163934426229\n",
      "0.0021466272507390484\n"
     ]
    }
   ],
   "source": [
    "from sklearn import model_selection\n",
    "from sklearn.tree import DecisionTreeClassifier\n",
    "\n",
    "kfold = model_selection.KFold(n_splits=50, shuffle=True, random_state=7)\n",
    "\n",
    "model = DecisionTreeClassifier()\n",
    "\n",
    "results = model_selection.cross_val_score(model, X, y, cv=kfold)\n",
    "\n",
    "result_mean = results.mean()\n",
    "result_variance = results.var()\n",
    "print(result_mean)\n",
    "print(result_variance)"
   ]
  },
  {
   "cell_type": "markdown",
   "metadata": {},
   "source": [
    "hmmm a bit lower, but what if we use random forest or bagging/boosting/stacking?"
   ]
  },
  {
   "cell_type": "code",
   "execution_count": 146,
   "metadata": {},
   "outputs": [
    {
     "name": "stdout",
     "output_type": "stream",
     "text": [
      "0.8918032786885246\n",
      "0.0014619725880139754\n"
     ]
    }
   ],
   "source": [
    "from sklearn.ensemble import RandomForestClassifier\n",
    "model = RandomForestClassifier(n_estimators=50, max_features=4)\n",
    "\n",
    "results_2 = model_selection.cross_val_score(model, X, y, cv=kfold)\n",
    "\n",
    "result2_mean = results_2.mean()\n",
    "result2_variance = results_2.var()\n",
    "print(result2_mean)\n",
    "print(result2_variance)"
   ]
  },
  {
   "cell_type": "markdown",
   "metadata": {},
   "source": [
    "lol seems to be very slightly our best model so far -- try bagging/boosting/stacking\n",
    "\n",
    "NOTE still need to tackle actual question laTeR"
   ]
  },
  {
   "cell_type": "markdown",
   "metadata": {},
   "source": [
    "Boosting: gradient boost and adaboost"
   ]
  },
  {
   "cell_type": "code",
   "execution_count": 147,
   "metadata": {},
   "outputs": [
    {
     "data": {
      "text/plain": [
       "0.8868852459016393"
      ]
     },
     "execution_count": 147,
     "metadata": {},
     "output_type": "execute_result"
    }
   ],
   "source": [
    "from sklearn.ensemble import AdaBoostClassifier\n",
    "# from sklearn.tree import DecisionTreeClassifier\n",
    "\n",
    "boosted_tree = AdaBoostClassifier(DecisionTreeClassifier(max_depth=1), algorithm=\"SAMME\", \n",
    "                                  n_estimators=50, random_state = 7)\n",
    "model = boosted_tree.fit(x_train, y_train)\n",
    "predictions = model.predict(x_test)\n",
    "accuracy_score(y_true = y_test, y_pred = predictions)"
   ]
  },
  {
   "cell_type": "code",
   "execution_count": 148,
   "metadata": {},
   "outputs": [
    {
     "data": {
      "text/plain": [
       "0.8967213114754098"
      ]
     },
     "execution_count": 148,
     "metadata": {},
     "output_type": "execute_result"
    }
   ],
   "source": [
    "#stochastic gradient boosting\n",
    "from sklearn.ensemble import GradientBoostingClassifier\n",
    "gradient_boosted_tree = GradientBoostingClassifier(n_estimators=50, random_state=7)\n",
    "model = gradient_boosted_tree.fit(x_train, y_train)\n",
    "predictions = model.predict(x_test)\n",
    "accuracy_score(y_true = y_test, y_pred = predictions)"
   ]
  },
  {
   "cell_type": "markdown",
   "metadata": {},
   "source": [
    "wtf dis best\n",
    "\n",
    "TODO stacking"
   ]
  },
  {
   "cell_type": "code",
   "execution_count": 149,
   "metadata": {},
   "outputs": [
    {
     "name": "stdout",
     "output_type": "stream",
     "text": [
      "kNN: 0.8163934426229508\n"
     ]
    }
   ],
   "source": [
    "from sklearn.model_selection import KFold\n",
    "\n",
    "kf = KFold(n_splits = 4)\n",
    "split1, split2, split3, split4 = kf.split(x_train, y_train)\n",
    "\n",
    "# kNN - uses first fold\n",
    "x_train_kNN = x_train.iloc[split1[0]]\n",
    "x_test_kNN = x_train.iloc[split1[1]]\n",
    "y_train_kNN = y_train.iloc[split1[0]]\n",
    "y_test_kNN = y_train.iloc[split1[1]]\n",
    "\n",
    "kNN = KNeighborsClassifier()\n",
    "kNN.fit(x_train_kNN, y_train_kNN)\n",
    "kNN_pred = kNN.predict(x_test_kNN) # TO DO: Predict values\n",
    "\n",
    "# TO DO: Find and print the score for kNN\n",
    "kNN_score = (y_test_kNN == kNN_pred).sum() / len(kNN_pred)\n",
    "print(\"kNN: \" + str(kNN_score))"
   ]
  },
  {
   "cell_type": "code",
   "execution_count": 133,
   "metadata": {},
   "outputs": [
    {
     "name": "stdout",
     "output_type": "stream",
     "text": [
      "SVM: 0.8524590163934426\n"
     ]
    }
   ],
   "source": [
    "# SVM - uses second fold\n",
    "x_train_SVM = x_train.iloc[split2[0]]\n",
    "x_test_SVM = x_train.iloc[split2[1]]\n",
    "y_train_SVM = y_train.iloc[split2[0]]\n",
    "y_test_SVM = y_train.iloc[split2[1]]\n",
    "\n",
    "from sklearn import svm\n",
    "# TO DO: Create model (Initialize and fit) and predict\n",
    "SVM = svm.SVC()\n",
    "SVM.fit(x_train_SVM, y_train_SVM)\n",
    "SVM_pred = SVM.predict(x_test_SVM) # TO DO: Predict values\n",
    "\n",
    "# TO DO: Find and print the score for SVM\n",
    "SVM_score = (y_test_SVM == SVM_pred).sum() / len(SVM_pred)\n",
    "print(\"SVM: \" + str(SVM_score))"
   ]
  },
  {
   "cell_type": "code",
   "execution_count": 134,
   "metadata": {},
   "outputs": [
    {
     "name": "stdout",
     "output_type": "stream",
     "text": [
      "Decision Tree: 0.8459016393442623\n"
     ]
    }
   ],
   "source": [
    "# decision tree - uses third fold\n",
    "x_train_tree = x_train.iloc[split3[0]]\n",
    "x_test_tree = x_train.iloc[split3[1]]\n",
    "y_train_tree = y_train.iloc[split3[0]]\n",
    "y_test_tree = y_train.iloc[split3[1]]\n",
    "\n",
    "from sklearn.tree import DecisionTreeClassifier\n",
    "# TO DO: Create model (Initialize and fit) and predict\n",
    "tree = DecisionTreeClassifier()\n",
    "tree.fit(x_train_tree, y_train_tree)\n",
    "tree_pred = tree.predict(x_test_tree) # TO DO: Predict values\n",
    "\n",
    "# TO DO: Find and print the score for Decision Tree\n",
    "tree_score = (y_test_tree == tree_pred).sum() / len(tree_pred)\n",
    "print(\"Decision Tree: \" + str(tree_score))"
   ]
  },
  {
   "cell_type": "code",
   "execution_count": 136,
   "metadata": {},
   "outputs": [
    {
     "name": "stdout",
     "output_type": "stream",
     "text": [
      "Logistic Regression: 0.8704918032786885\n"
     ]
    }
   ],
   "source": [
    "# logistic - uses fourth fold\n",
    "# TO DO: Use the fourth fold to split into train and test sets\n",
    "x_train_logit = x_train.iloc[split4[0]]\n",
    "x_test_logit = x_train.iloc[split4[1]]\n",
    "y_train_logit = y_train.iloc[split4[0]]\n",
    "y_test_logit = y_train.iloc[split4[1]]\n",
    "\n",
    "from sklearn.linear_model import LogisticRegression\n",
    "# TO DO: Create model (Initialize and fit) and predict\n",
    "logit = LogisticRegression()\n",
    "logit.fit(x_train_logit, y_train_logit)\n",
    "logit_pred = logit.predict(x_test_logit) # TO DO: Predict values\n",
    "\n",
    "# TO DO: Find and print the score for Logistic regression\n",
    "logit_score = (y_test_logit == logit_pred).sum() / len(logit_pred)\n",
    "print(\"Logistic Regression: \" + str(logit_score))"
   ]
  },
  {
   "cell_type": "code",
   "execution_count": 139,
   "metadata": {},
   "outputs": [
    {
     "name": "stdout",
     "output_type": "stream",
     "text": [
      "Stacked: 0.8540983606557377\n"
     ]
    }
   ],
   "source": [
    "# Stacking\n",
    "# Combines the four folds\n",
    "import numpy as np\n",
    "kNN_pred = kNN_pred.reshape(-1,1)\n",
    "SVM_pred = SVM_pred.reshape(-1,1)\n",
    "tree_pred = tree_pred.reshape(-1,1)\n",
    "logit_pred = logit_pred.reshape(-1,1)\n",
    "pred_input = np.vstack([kNN_pred, SVM_pred, tree_pred, logit_pred])\n",
    "\n",
    "from sklearn.linear_model import LogisticRegression\n",
    "stacked = LogisticRegression()\n",
    "stacked.fit(pred_input, y_train)\n",
    "\n",
    "# the first layer predicts\n",
    "pred_test = pd.DataFrame({'kNN': kNN.predict(x_test), 'SVM': SVM.predict(x_test), 'tree': tree.predict(x_test), 'logit': logit.predict(x_test)})\n",
    "# the average of the predictions is calculated\n",
    "pred_test = pred_test.assign(avg=pred_test.mean(axis=1))\n",
    "stacked_pred = stacked.predict(pred_test[['avg']])\n",
    "\n",
    "stacked_score = (y_test == stacked_pred).sum() / len(stacked_pred)\n",
    "print(\"Stacked: \" + str(stacked_score))"
   ]
  },
  {
   "cell_type": "markdown",
   "metadata": {},
   "source": [
    "just testing how baseline linear regression performs lol"
   ]
  },
  {
   "cell_type": "code",
   "execution_count": 151,
   "metadata": {},
   "outputs": [
    {
     "data": {
      "text/plain": [
       "0       27.7\n",
       "1       31.3\n",
       "2       12.2\n",
       "3       11.5\n",
       "4       12.6\n",
       "        ... \n",
       "3138    22.0\n",
       "3139    57.4\n",
       "3140    15.4\n",
       "3141    21.5\n",
       "3142    19.2\n",
       "Name: BachelorRate, Length: 3050, dtype: float64"
      ]
     },
     "execution_count": 151,
     "metadata": {},
     "output_type": "execute_result"
    }
   ],
   "source": [
    "df['BachelorRate']"
   ]
  },
  {
   "cell_type": "code",
   "execution_count": 152,
   "metadata": {},
   "outputs": [
    {
     "data": {
      "image/png": "[encoded data removed]",
      "text/plain": [
       "<Figure size 432x288 with 1 Axes>"
      ]
     },
     "metadata": {
      "needs_background": "light"
     },
     "output_type": "display_data"
    }
   ],
   "source": [
    "from sklearn.linear_model import LinearRegression\n",
    "\n",
    "model = LinearRegression()\n",
    "model = model.fit(df[['BachelorRate']], df[['DEM/GOP']])\n",
    "\n",
    "# generate numbers across the spread of data\n",
    "test = pd.DataFrame({'cost': pd.Series(range(0, 100, 1))})\n",
    "# predict on that spread\n",
    "predictions = model.predict(test)\n",
    "\n",
    "plt.scatter(df[['BachelorRate']], df[['DEM/GOP']])\n",
    "plt.plot(test, predictions, 'k', linewidth=4)\n",
    "plt.title('Cost of Attendance vs Median Earnings')\n",
    "plt.xlabel('Cost of Attendance')\n",
    "plt.ylabel('Median Earnings')\n",
    "plt.show()"
   ]
  },
  {
   "cell_type": "code",
   "execution_count": 153,
   "metadata": {},
   "outputs": [
    {
     "data": {
      "text/plain": [
       "0.12444621759772811"
      ]
     },
     "execution_count": 153,
     "metadata": {},
     "output_type": "execute_result"
    }
   ],
   "source": [
    "x_train, x_test, y_train, y_test = train_test_split(df[['BachelorRate']], df[['DEM/GOP']], test_size=0.2, random_state=42)\n",
    "model = LinearRegression()\n",
    "model = model.fit(x_train, y_train)\n",
    "model.score(x_test, y_test)"
   ]
  },
  {
   "cell_type": "markdown",
   "metadata": {},
   "source": [
    "bruh\n",
    "\n",
    "what about poly"
   ]
  },
  {
   "cell_type": "code",
   "execution_count": 157,
   "metadata": {},
   "outputs": [
    {
     "data": {
      "text/plain": [
       "0.19659176717919902"
      ]
     },
     "execution_count": 157,
     "metadata": {},
     "output_type": "execute_result"
    }
   ],
   "source": [
    "# Import the models\n",
    "from sklearn.preprocessing import PolynomialFeatures\n",
    "from sklearn.pipeline import make_pipeline\n",
    "\n",
    "# Build the Models\n",
    "poly_model = make_pipeline(PolynomialFeatures(2), LinearRegression())\n",
    "\n",
    "# Using the same split, fit and score the model\n",
    "poly_model.fit(x_train, y_train)\n",
    "poly_model.score(x_test, y_test)"
   ]
  },
  {
   "cell_type": "code",
   "execution_count": 158,
   "metadata": {},
   "outputs": [
    {
     "data": {
      "text/plain": [
       "0.1925058551524378"
      ]
     },
     "execution_count": 158,
     "metadata": {},
     "output_type": "execute_result"
    }
   ],
   "source": [
    "# Import the models\n",
    "from sklearn.preprocessing import PolynomialFeatures\n",
    "from sklearn.pipeline import make_pipeline\n",
    "\n",
    "# Build the Models\n",
    "poly_model = make_pipeline(PolynomialFeatures(3), LinearRegression())\n",
    "\n",
    "# Using the same split, fit and score the model\n",
    "poly_model.fit(x_train, y_train)\n",
    "poly_model.score(x_test, y_test)"
   ]
  },
  {
   "cell_type": "markdown",
   "metadata": {},
   "source": [
    "idk man plz "
   ]
  }
 ],
 "metadata": {
  "kernelspec": {
   "display_name": "Python 3",
   "language": "python",
   "name": "python3"
  },
  "language_info": {
   "codemirror_mode": {
    "name": "ipython",
    "version": 3
   },
   "file_extension": ".py",
   "mimetype": "text/x-python",
   "name": "python",
   "nbconvert_exporter": "python",
   "pygments_lexer": "ipython3",
   "version": "3.8.5"
  }
 },
 "nbformat": 4,
 "nbformat_minor": 4
}
