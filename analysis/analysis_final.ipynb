{
 "cells": [
  {
   "cell_type": "code",
   "execution_count": 49,
   "metadata": {},
   "outputs": [],
   "source": [
    "import numpy as np\n",
    "import pandas as pd\n",
    "from matplotlib import pyplot as plt"
   ]
  },
  {
   "cell_type": "code",
   "execution_count": 50,
   "metadata": {},
   "outputs": [
    {
     "name": "stderr",
     "output_type": "stream",
     "text": [
      "<ipython-input-50-6dbbe978d694>:11: SettingWithCopyWarning:\n",
      "\n",
      "\n",
      "A value is trying to be set on a copy of a slice from a DataFrame\n",
      "\n",
      "See the caveats in the documentation: https://pandas.pydata.org/pandas-docs/stable/user_guide/indexing.html#returning-a-view-versus-a-copy\n",
      "\n"
     ]
    },
    {
     "data": {
      "text/html": [
       "<div>\n",
       "<style scoped>\n",
       "    .dataframe tbody tr th:only-of-type {\n",
       "        vertical-align: middle;\n",
       "    }\n",
       "\n",
       "    .dataframe tbody tr th {\n",
       "        vertical-align: top;\n",
       "    }\n",
       "\n",
       "    .dataframe thead th {\n",
       "        text-align: right;\n",
       "    }\n",
       "</style>\n",
       "<table border=\"1\" class=\"dataframe\">\n",
       "  <thead>\n",
       "    <tr style=\"text-align: right;\">\n",
       "      <th></th>\n",
       "      <th>FIPS</th>\n",
       "      <th>County</th>\n",
       "      <th>DEM</th>\n",
       "      <th>GOP</th>\n",
       "      <th>MedianIncome</th>\n",
       "      <th>MigraRate</th>\n",
       "      <th>BirthRate</th>\n",
       "      <th>DeathRate</th>\n",
       "      <th>BachelorRate</th>\n",
       "      <th>UnemploymentRate</th>\n",
       "      <th>State</th>\n",
       "      <th>zip</th>\n",
       "      <th>primary_city</th>\n",
       "      <th>latitude</th>\n",
       "      <th>longitude</th>\n",
       "      <th>estimated_population</th>\n",
       "      <th>DEMWin</th>\n",
       "    </tr>\n",
       "  </thead>\n",
       "  <tbody>\n",
       "    <tr>\n",
       "      <th>0</th>\n",
       "      <td>1001</td>\n",
       "      <td>Autauga</td>\n",
       "      <td>5908</td>\n",
       "      <td>18110</td>\n",
       "      <td>54487</td>\n",
       "      <td>5.3</td>\n",
       "      <td>12.2</td>\n",
       "      <td>10.0</td>\n",
       "      <td>27.7</td>\n",
       "      <td>5.1</td>\n",
       "      <td>AL</td>\n",
       "      <td>36003.0</td>\n",
       "      <td>Autaugaville</td>\n",
       "      <td>32.43</td>\n",
       "      <td>-86.65</td>\n",
       "      <td>1628.0</td>\n",
       "      <td>0</td>\n",
       "    </tr>\n",
       "    <tr>\n",
       "      <th>1</th>\n",
       "      <td>1003</td>\n",
       "      <td>Baldwin</td>\n",
       "      <td>18409</td>\n",
       "      <td>72780</td>\n",
       "      <td>56460</td>\n",
       "      <td>21.5</td>\n",
       "      <td>11.2</td>\n",
       "      <td>9.8</td>\n",
       "      <td>31.3</td>\n",
       "      <td>5.3</td>\n",
       "      <td>AL</td>\n",
       "      <td>31034.0</td>\n",
       "      <td>Hardwick</td>\n",
       "      <td>32.99</td>\n",
       "      <td>-83.29</td>\n",
       "      <td>1741.0</td>\n",
       "      <td>0</td>\n",
       "    </tr>\n",
       "    <tr>\n",
       "      <th>2</th>\n",
       "      <td>1005</td>\n",
       "      <td>Barbour</td>\n",
       "      <td>4848</td>\n",
       "      <td>5431</td>\n",
       "      <td>32884</td>\n",
       "      <td>-18.2</td>\n",
       "      <td>10.6</td>\n",
       "      <td>10.8</td>\n",
       "      <td>12.2</td>\n",
       "      <td>8.3</td>\n",
       "      <td>AL</td>\n",
       "      <td>26238.0</td>\n",
       "      <td>Volga</td>\n",
       "      <td>39.06</td>\n",
       "      <td>-80.11</td>\n",
       "      <td>698.0</td>\n",
       "      <td>0</td>\n",
       "    </tr>\n",
       "    <tr>\n",
       "      <th>3</th>\n",
       "      <td>1007</td>\n",
       "      <td>Bibb</td>\n",
       "      <td>1874</td>\n",
       "      <td>6733</td>\n",
       "      <td>43079</td>\n",
       "      <td>-0.8</td>\n",
       "      <td>12.1</td>\n",
       "      <td>10.8</td>\n",
       "      <td>11.5</td>\n",
       "      <td>6.4</td>\n",
       "      <td>AL</td>\n",
       "      <td>31052.0</td>\n",
       "      <td>Lizella</td>\n",
       "      <td>32.76</td>\n",
       "      <td>-83.86</td>\n",
       "      <td>7592.0</td>\n",
       "      <td>0</td>\n",
       "    </tr>\n",
       "    <tr>\n",
       "      <th>4</th>\n",
       "      <td>1009</td>\n",
       "      <td>Blount</td>\n",
       "      <td>2150</td>\n",
       "      <td>22808</td>\n",
       "      <td>47213</td>\n",
       "      <td>-1.0</td>\n",
       "      <td>12.2</td>\n",
       "      <td>11.2</td>\n",
       "      <td>12.6</td>\n",
       "      <td>5.4</td>\n",
       "      <td>AL</td>\n",
       "      <td>35013.0</td>\n",
       "      <td>Allgood</td>\n",
       "      <td>33.90</td>\n",
       "      <td>-86.51</td>\n",
       "      <td>0.0</td>\n",
       "      <td>0</td>\n",
       "    </tr>\n",
       "  </tbody>\n",
       "</table>\n",
       "</div>"
      ],
      "text/plain": [
       "   FIPS   County    DEM    GOP  MedianIncome  MigraRate  BirthRate  DeathRate  \\\n",
       "0  1001  Autauga   5908  18110         54487        5.3       12.2       10.0   \n",
       "1  1003  Baldwin  18409  72780         56460       21.5       11.2        9.8   \n",
       "2  1005  Barbour   4848   5431         32884      -18.2       10.6       10.8   \n",
       "3  1007     Bibb   1874   6733         43079       -0.8       12.1       10.8   \n",
       "4  1009   Blount   2150  22808         47213       -1.0       12.2       11.2   \n",
       "\n",
       "   BachelorRate  UnemploymentRate State      zip  primary_city  latitude  \\\n",
       "0          27.7               5.1    AL  36003.0  Autaugaville     32.43   \n",
       "1          31.3               5.3    AL  31034.0      Hardwick     32.99   \n",
       "2          12.2               8.3    AL  26238.0         Volga     39.06   \n",
       "3          11.5               6.4    AL  31052.0       Lizella     32.76   \n",
       "4          12.6               5.4    AL  35013.0       Allgood     33.90   \n",
       "\n",
       "   longitude  estimated_population  DEMWin  \n",
       "0     -86.65                1628.0       0  \n",
       "1     -83.29                1741.0       0  \n",
       "2     -80.11                 698.0       0  \n",
       "3     -83.86                7592.0       0  \n",
       "4     -86.51                   0.0       0  "
      ]
     },
     "execution_count": 50,
     "metadata": {},
     "output_type": "execute_result"
    }
   ],
   "source": [
    "df_16 = pd.read_csv(\"../data/county_2016_preprocessed1.csv\")\n",
    "\n",
    "# encode dem/gop wins\n",
    "df_16 = df_16.dropna()\n",
    "df_16['DEM'] = df_16['DEM'].astype('int32')\n",
    "df_16['GOP'] = df_16['GOP'].astype('int32')\n",
    "\n",
    "df_16['DEMWin']=0\n",
    "for idx, row in df_16.iterrows():\n",
    "    if row['DEM'] >= row['GOP']:\n",
    "        df_16['DEMWin'][idx]=1\n",
    "\n",
    "# df_16['DEMWin']=df_16['DEM'] - df_16['GOP']\n",
    "\n",
    "df_16['MedianIncome'] = df_16['MedianIncome'].replace(',','', regex=True)\n",
    "df_16['MedianIncome'] = df_16['MedianIncome'].astype('int32')\n",
    "\n",
    "df_16.head()"
   ]
  },
  {
   "cell_type": "code",
   "execution_count": 51,
   "metadata": {},
   "outputs": [
    {
     "name": "stderr",
     "output_type": "stream",
     "text": [
      "<ipython-input-51-ed23f149f7f6>:11: SettingWithCopyWarning:\n",
      "\n",
      "\n",
      "A value is trying to be set on a copy of a slice from a DataFrame\n",
      "\n",
      "See the caveats in the documentation: https://pandas.pydata.org/pandas-docs/stable/user_guide/indexing.html#returning-a-view-versus-a-copy\n",
      "\n"
     ]
    },
    {
     "data": {
      "text/html": [
       "<div>\n",
       "<style scoped>\n",
       "    .dataframe tbody tr th:only-of-type {\n",
       "        vertical-align: middle;\n",
       "    }\n",
       "\n",
       "    .dataframe tbody tr th {\n",
       "        vertical-align: top;\n",
       "    }\n",
       "\n",
       "    .dataframe thead th {\n",
       "        text-align: right;\n",
       "    }\n",
       "</style>\n",
       "<table border=\"1\" class=\"dataframe\">\n",
       "  <thead>\n",
       "    <tr style=\"text-align: right;\">\n",
       "      <th></th>\n",
       "      <th>FIPS</th>\n",
       "      <th>County</th>\n",
       "      <th>DEM</th>\n",
       "      <th>GOP</th>\n",
       "      <th>MedianIncome</th>\n",
       "      <th>MigraRate</th>\n",
       "      <th>BirthRate</th>\n",
       "      <th>DeathRate</th>\n",
       "      <th>BachelorRate</th>\n",
       "      <th>UnemploymentRate</th>\n",
       "      <th>State</th>\n",
       "      <th>zip</th>\n",
       "      <th>primary_city</th>\n",
       "      <th>latitude</th>\n",
       "      <th>longitude</th>\n",
       "      <th>estimated_population</th>\n",
       "      <th>DEMWin</th>\n",
       "    </tr>\n",
       "  </thead>\n",
       "  <tbody>\n",
       "    <tr>\n",
       "      <th>0</th>\n",
       "      <td>1001</td>\n",
       "      <td>Autauga</td>\n",
       "      <td>6354</td>\n",
       "      <td>17366</td>\n",
       "      <td>51441</td>\n",
       "      <td>-6.1</td>\n",
       "      <td>11.1</td>\n",
       "      <td>10.2</td>\n",
       "      <td>21.9</td>\n",
       "      <td>6.9</td>\n",
       "      <td>AL</td>\n",
       "      <td>36003.0</td>\n",
       "      <td>Autaugaville</td>\n",
       "      <td>32.43</td>\n",
       "      <td>-86.65</td>\n",
       "      <td>1628.0</td>\n",
       "      <td>0</td>\n",
       "    </tr>\n",
       "    <tr>\n",
       "      <th>1</th>\n",
       "      <td>1003</td>\n",
       "      <td>Baldwin</td>\n",
       "      <td>18329</td>\n",
       "      <td>65772</td>\n",
       "      <td>48867</td>\n",
       "      <td>17.6</td>\n",
       "      <td>11.1</td>\n",
       "      <td>10.0</td>\n",
       "      <td>28.6</td>\n",
       "      <td>7.5</td>\n",
       "      <td>AL</td>\n",
       "      <td>31034.0</td>\n",
       "      <td>Hardwick</td>\n",
       "      <td>32.99</td>\n",
       "      <td>-83.29</td>\n",
       "      <td>1741.0</td>\n",
       "      <td>0</td>\n",
       "    </tr>\n",
       "    <tr>\n",
       "      <th>2</th>\n",
       "      <td>1005</td>\n",
       "      <td>Barbour</td>\n",
       "      <td>5873</td>\n",
       "      <td>5539</td>\n",
       "      <td>30287</td>\n",
       "      <td>-6.8</td>\n",
       "      <td>11.0</td>\n",
       "      <td>10.7</td>\n",
       "      <td>13.6</td>\n",
       "      <td>11.5</td>\n",
       "      <td>AL</td>\n",
       "      <td>26238.0</td>\n",
       "      <td>Volga</td>\n",
       "      <td>39.06</td>\n",
       "      <td>-80.11</td>\n",
       "      <td>698.0</td>\n",
       "      <td>1</td>\n",
       "    </tr>\n",
       "    <tr>\n",
       "      <th>3</th>\n",
       "      <td>1007</td>\n",
       "      <td>Bibb</td>\n",
       "      <td>2200</td>\n",
       "      <td>6131</td>\n",
       "      <td>37392</td>\n",
       "      <td>-3.8</td>\n",
       "      <td>10.8</td>\n",
       "      <td>10.5</td>\n",
       "      <td>10.2</td>\n",
       "      <td>8.5</td>\n",
       "      <td>AL</td>\n",
       "      <td>31052.0</td>\n",
       "      <td>Lizella</td>\n",
       "      <td>32.76</td>\n",
       "      <td>-83.86</td>\n",
       "      <td>7592.0</td>\n",
       "      <td>0</td>\n",
       "    </tr>\n",
       "    <tr>\n",
       "      <th>4</th>\n",
       "      <td>1009</td>\n",
       "      <td>Blount</td>\n",
       "      <td>2961</td>\n",
       "      <td>20741</td>\n",
       "      <td>44225</td>\n",
       "      <td>-1.6</td>\n",
       "      <td>12.4</td>\n",
       "      <td>10.3</td>\n",
       "      <td>12.3</td>\n",
       "      <td>6.9</td>\n",
       "      <td>AL</td>\n",
       "      <td>35013.0</td>\n",
       "      <td>Allgood</td>\n",
       "      <td>33.90</td>\n",
       "      <td>-86.51</td>\n",
       "      <td>0.0</td>\n",
       "      <td>0</td>\n",
       "    </tr>\n",
       "  </tbody>\n",
       "</table>\n",
       "</div>"
      ],
      "text/plain": [
       "   FIPS   County    DEM    GOP  MedianIncome  MigraRate  BirthRate  DeathRate  \\\n",
       "0  1001  Autauga   6354  17366         51441       -6.1       11.1       10.2   \n",
       "1  1003  Baldwin  18329  65772         48867       17.6       11.1       10.0   \n",
       "2  1005  Barbour   5873   5539         30287       -6.8       11.0       10.7   \n",
       "3  1007     Bibb   2200   6131         37392       -3.8       10.8       10.5   \n",
       "4  1009   Blount   2961  20741         44225       -1.6       12.4       10.3   \n",
       "\n",
       "   BachelorRate  UnemploymentRate State      zip  primary_city  latitude  \\\n",
       "0          21.9               6.9    AL  36003.0  Autaugaville     32.43   \n",
       "1          28.6               7.5    AL  31034.0      Hardwick     32.99   \n",
       "2          13.6              11.5    AL  26238.0         Volga     39.06   \n",
       "3          10.2               8.5    AL  31052.0       Lizella     32.76   \n",
       "4          12.3               6.9    AL  35013.0       Allgood     33.90   \n",
       "\n",
       "   longitude  estimated_population  DEMWin  \n",
       "0     -86.65                1628.0       0  \n",
       "1     -83.29                1741.0       0  \n",
       "2     -80.11                 698.0       1  \n",
       "3     -83.86                7592.0       0  \n",
       "4     -86.51                   0.0       0  "
      ]
     },
     "execution_count": 51,
     "metadata": {},
     "output_type": "execute_result"
    }
   ],
   "source": [
    "df_12 = pd.read_csv(\"../data/county_2012_preprocessed1.csv\")\n",
    "\n",
    "# encode dem/gop wins\n",
    "df_12 = df_12.dropna()\n",
    "df_12['DEM'] = df_12['DEM'].astype('int32')\n",
    "df_12['GOP'] = df_12['GOP'].astype('int32')\n",
    "\n",
    "df_12['DEMWin']=0\n",
    "for idx, row in df_12.iterrows():\n",
    "    if row['DEM'] >= row['GOP']:\n",
    "        df_12['DEMWin'][idx]=1\n",
    "\n",
    "df_12['MedianIncome'] = df_12['MedianIncome'].replace(',','', regex=True)\n",
    "df_12['MedianIncome'] = df_12['MedianIncome'].astype('int32')\n",
    "\n",
    "df_12.head()"
   ]
  },
  {
   "cell_type": "code",
   "execution_count": 52,
   "metadata": {},
   "outputs": [
    {
     "data": {
      "text/plain": [
       "(0.14852459016393443, 0.8514754098360655)"
      ]
     },
     "execution_count": 52,
     "metadata": {},
     "output_type": "execute_result"
    }
   ],
   "source": [
    "y_all_16 = df_16['DEMWin'].tolist()\n",
    "pos_class = np.sum(y_all_16) / len(y_all_16)\n",
    "neg_class = 1 - pos_class\n",
    "\n",
    "pos_class, neg_class"
   ]
  },
  {
   "cell_type": "code",
   "execution_count": 53,
   "metadata": {},
   "outputs": [],
   "source": [
    "def weighted_accuracy(pred, true):\n",
    "    assert(len(pred) == len(true))\n",
    "    num_labels = len(true)\n",
    "    num_pos = sum(true)\n",
    "    num_neg = num_labels - num_pos\n",
    "    frac_pos = num_pos/num_labels\n",
    "    weight_pos = 1/frac_pos\n",
    "    weight_neg = 1/(1-frac_pos)\n",
    "    num_pos_correct = 0\n",
    "    num_neg_correct = 0\n",
    "    for pred_i, true_i in zip(pred, true):\n",
    "        num_pos_correct += (pred_i == true_i and true_i == 1)\n",
    "        num_neg_correct += (pred_i == true_i and true_i == 0)\n",
    "    weighted_accuracy = ((weight_pos * num_pos_correct) \n",
    "                         + (weight_neg * num_neg_correct))/((weight_pos * num_pos) + (weight_neg * num_neg))\n",
    "    return weighted_accuracy"
   ]
  },
  {
   "cell_type": "code",
   "execution_count": 54,
   "metadata": {},
   "outputs": [
    {
     "data": {
      "text/html": [
       "<div>\n",
       "<style scoped>\n",
       "    .dataframe tbody tr th:only-of-type {\n",
       "        vertical-align: middle;\n",
       "    }\n",
       "\n",
       "    .dataframe tbody tr th {\n",
       "        vertical-align: top;\n",
       "    }\n",
       "\n",
       "    .dataframe thead th {\n",
       "        text-align: right;\n",
       "    }\n",
       "</style>\n",
       "<table border=\"1\" class=\"dataframe\">\n",
       "  <thead>\n",
       "    <tr style=\"text-align: right;\">\n",
       "      <th></th>\n",
       "      <th>MedianIncome</th>\n",
       "      <th>MigraRate</th>\n",
       "      <th>BirthRate</th>\n",
       "      <th>DeathRate</th>\n",
       "      <th>BachelorRate</th>\n",
       "      <th>UnemploymentRate</th>\n",
       "    </tr>\n",
       "  </thead>\n",
       "  <tbody>\n",
       "    <tr>\n",
       "      <th>0</th>\n",
       "      <td>54487</td>\n",
       "      <td>5.3</td>\n",
       "      <td>12.2</td>\n",
       "      <td>10.0</td>\n",
       "      <td>27.7</td>\n",
       "      <td>5.1</td>\n",
       "    </tr>\n",
       "    <tr>\n",
       "      <th>1</th>\n",
       "      <td>56460</td>\n",
       "      <td>21.5</td>\n",
       "      <td>11.2</td>\n",
       "      <td>9.8</td>\n",
       "      <td>31.3</td>\n",
       "      <td>5.3</td>\n",
       "    </tr>\n",
       "    <tr>\n",
       "      <th>2</th>\n",
       "      <td>32884</td>\n",
       "      <td>-18.2</td>\n",
       "      <td>10.6</td>\n",
       "      <td>10.8</td>\n",
       "      <td>12.2</td>\n",
       "      <td>8.3</td>\n",
       "    </tr>\n",
       "    <tr>\n",
       "      <th>3</th>\n",
       "      <td>43079</td>\n",
       "      <td>-0.8</td>\n",
       "      <td>12.1</td>\n",
       "      <td>10.8</td>\n",
       "      <td>11.5</td>\n",
       "      <td>6.4</td>\n",
       "    </tr>\n",
       "    <tr>\n",
       "      <th>4</th>\n",
       "      <td>47213</td>\n",
       "      <td>-1.0</td>\n",
       "      <td>12.2</td>\n",
       "      <td>11.2</td>\n",
       "      <td>12.6</td>\n",
       "      <td>5.4</td>\n",
       "    </tr>\n",
       "  </tbody>\n",
       "</table>\n",
       "</div>"
      ],
      "text/plain": [
       "   MedianIncome  MigraRate  BirthRate  DeathRate  BachelorRate  \\\n",
       "0         54487        5.3       12.2       10.0          27.7   \n",
       "1         56460       21.5       11.2        9.8          31.3   \n",
       "2         32884      -18.2       10.6       10.8          12.2   \n",
       "3         43079       -0.8       12.1       10.8          11.5   \n",
       "4         47213       -1.0       12.2       11.2          12.6   \n",
       "\n",
       "   UnemploymentRate  \n",
       "0               5.1  \n",
       "1               5.3  \n",
       "2               8.3  \n",
       "3               6.4  \n",
       "4               5.4  "
      ]
     },
     "execution_count": 54,
     "metadata": {},
     "output_type": "execute_result"
    }
   ],
   "source": [
    "# normal x\n",
    "x_16 = df_16.loc[:,\"MedianIncome\":\"UnemploymentRate\"]\n",
    "x_16.head()"
   ]
  },
  {
   "cell_type": "code",
   "execution_count": 55,
   "metadata": {},
   "outputs": [
    {
     "data": {
      "text/html": [
       "<div>\n",
       "<style scoped>\n",
       "    .dataframe tbody tr th:only-of-type {\n",
       "        vertical-align: middle;\n",
       "    }\n",
       "\n",
       "    .dataframe tbody tr th {\n",
       "        vertical-align: top;\n",
       "    }\n",
       "\n",
       "    .dataframe thead th {\n",
       "        text-align: right;\n",
       "    }\n",
       "</style>\n",
       "<table border=\"1\" class=\"dataframe\">\n",
       "  <thead>\n",
       "    <tr style=\"text-align: right;\">\n",
       "      <th></th>\n",
       "      <th>MedianIncome</th>\n",
       "      <th>MigraRate</th>\n",
       "      <th>BirthRate</th>\n",
       "      <th>DeathRate</th>\n",
       "      <th>BachelorRate</th>\n",
       "      <th>UnemploymentRate</th>\n",
       "    </tr>\n",
       "  </thead>\n",
       "  <tbody>\n",
       "    <tr>\n",
       "      <th>0</th>\n",
       "      <td>0.402334</td>\n",
       "      <td>0.401981</td>\n",
       "      <td>0.239021</td>\n",
       "      <td>-0.293702</td>\n",
       "      <td>0.675324</td>\n",
       "      <td>-0.056617</td>\n",
       "    </tr>\n",
       "    <tr>\n",
       "      <th>1</th>\n",
       "      <td>0.557411</td>\n",
       "      <td>1.631638</td>\n",
       "      <td>-0.167636</td>\n",
       "      <td>-0.365196</td>\n",
       "      <td>1.063329</td>\n",
       "      <td>0.052022</td>\n",
       "    </tr>\n",
       "    <tr>\n",
       "      <th>2</th>\n",
       "      <td>-1.295646</td>\n",
       "      <td>-1.381779</td>\n",
       "      <td>-0.411630</td>\n",
       "      <td>-0.007724</td>\n",
       "      <td>-0.995255</td>\n",
       "      <td>1.681600</td>\n",
       "    </tr>\n",
       "    <tr>\n",
       "      <th>3</th>\n",
       "      <td>-0.494326</td>\n",
       "      <td>-0.061037</td>\n",
       "      <td>0.198355</td>\n",
       "      <td>-0.007724</td>\n",
       "      <td>-1.070700</td>\n",
       "      <td>0.649534</td>\n",
       "    </tr>\n",
       "    <tr>\n",
       "      <th>4</th>\n",
       "      <td>-0.169397</td>\n",
       "      <td>-0.076218</td>\n",
       "      <td>0.239021</td>\n",
       "      <td>0.135265</td>\n",
       "      <td>-0.952143</td>\n",
       "      <td>0.106341</td>\n",
       "    </tr>\n",
       "  </tbody>\n",
       "</table>\n",
       "</div>"
      ],
      "text/plain": [
       "   MedianIncome  MigraRate  BirthRate  DeathRate  BachelorRate  \\\n",
       "0      0.402334   0.401981   0.239021  -0.293702      0.675324   \n",
       "1      0.557411   1.631638  -0.167636  -0.365196      1.063329   \n",
       "2     -1.295646  -1.381779  -0.411630  -0.007724     -0.995255   \n",
       "3     -0.494326  -0.061037   0.198355  -0.007724     -1.070700   \n",
       "4     -0.169397  -0.076218   0.239021   0.135265     -0.952143   \n",
       "\n",
       "   UnemploymentRate  \n",
       "0         -0.056617  \n",
       "1          0.052022  \n",
       "2          1.681600  \n",
       "3          0.649534  \n",
       "4          0.106341  "
      ]
     },
     "execution_count": 55,
     "metadata": {},
     "output_type": "execute_result"
    }
   ],
   "source": [
    "# normalize columns\n",
    "for i, c in enumerate(x_16.columns): \n",
    "    x_16[c] = (x_16[c]-x_16[c].mean()) / x_16[c].std()\n",
    "x_16.head()"
   ]
  },
  {
   "cell_type": "code",
   "execution_count": 56,
   "metadata": {},
   "outputs": [
    {
     "data": {
      "text/html": [
       "<div>\n",
       "<style scoped>\n",
       "    .dataframe tbody tr th:only-of-type {\n",
       "        vertical-align: middle;\n",
       "    }\n",
       "\n",
       "    .dataframe tbody tr th {\n",
       "        vertical-align: top;\n",
       "    }\n",
       "\n",
       "    .dataframe thead th {\n",
       "        text-align: right;\n",
       "    }\n",
       "</style>\n",
       "<table border=\"1\" class=\"dataframe\">\n",
       "  <thead>\n",
       "    <tr style=\"text-align: right;\">\n",
       "      <th></th>\n",
       "      <th>MedianIncome</th>\n",
       "      <th>MigraRate</th>\n",
       "      <th>BirthRate</th>\n",
       "      <th>DeathRate</th>\n",
       "      <th>BachelorRate</th>\n",
       "      <th>UnemploymentRate</th>\n",
       "      <th>MedianIncomeChange</th>\n",
       "      <th>MigraRateChange</th>\n",
       "      <th>BirthRateChange</th>\n",
       "      <th>DeathRateChange</th>\n",
       "      <th>BachelorRateChange</th>\n",
       "      <th>UnemploymentRateChange</th>\n",
       "      <th>DEMWin12</th>\n",
       "    </tr>\n",
       "  </thead>\n",
       "  <tbody>\n",
       "    <tr>\n",
       "      <th>0</th>\n",
       "      <td>54487</td>\n",
       "      <td>5.3</td>\n",
       "      <td>12.2</td>\n",
       "      <td>10.0</td>\n",
       "      <td>27.7</td>\n",
       "      <td>5.1</td>\n",
       "      <td>3046</td>\n",
       "      <td>11.4</td>\n",
       "      <td>1.1</td>\n",
       "      <td>-0.2</td>\n",
       "      <td>5.8</td>\n",
       "      <td>-1.8</td>\n",
       "      <td>0</td>\n",
       "    </tr>\n",
       "    <tr>\n",
       "      <th>1</th>\n",
       "      <td>56460</td>\n",
       "      <td>21.5</td>\n",
       "      <td>11.2</td>\n",
       "      <td>9.8</td>\n",
       "      <td>31.3</td>\n",
       "      <td>5.3</td>\n",
       "      <td>7593</td>\n",
       "      <td>3.9</td>\n",
       "      <td>0.1</td>\n",
       "      <td>-0.2</td>\n",
       "      <td>2.7</td>\n",
       "      <td>-2.2</td>\n",
       "      <td>0</td>\n",
       "    </tr>\n",
       "    <tr>\n",
       "      <th>2</th>\n",
       "      <td>32884</td>\n",
       "      <td>-18.2</td>\n",
       "      <td>10.6</td>\n",
       "      <td>10.8</td>\n",
       "      <td>12.2</td>\n",
       "      <td>8.3</td>\n",
       "      <td>2597</td>\n",
       "      <td>-11.4</td>\n",
       "      <td>-0.4</td>\n",
       "      <td>0.1</td>\n",
       "      <td>-1.4</td>\n",
       "      <td>-3.2</td>\n",
       "      <td>1</td>\n",
       "    </tr>\n",
       "    <tr>\n",
       "      <th>3</th>\n",
       "      <td>43079</td>\n",
       "      <td>-0.8</td>\n",
       "      <td>12.1</td>\n",
       "      <td>10.8</td>\n",
       "      <td>11.5</td>\n",
       "      <td>6.4</td>\n",
       "      <td>5687</td>\n",
       "      <td>3.0</td>\n",
       "      <td>1.3</td>\n",
       "      <td>0.3</td>\n",
       "      <td>1.3</td>\n",
       "      <td>-2.1</td>\n",
       "      <td>0</td>\n",
       "    </tr>\n",
       "    <tr>\n",
       "      <th>4</th>\n",
       "      <td>47213</td>\n",
       "      <td>-1.0</td>\n",
       "      <td>12.2</td>\n",
       "      <td>11.2</td>\n",
       "      <td>12.6</td>\n",
       "      <td>5.4</td>\n",
       "      <td>2988</td>\n",
       "      <td>0.6</td>\n",
       "      <td>-0.2</td>\n",
       "      <td>0.9</td>\n",
       "      <td>0.3</td>\n",
       "      <td>-1.5</td>\n",
       "      <td>0</td>\n",
       "    </tr>\n",
       "  </tbody>\n",
       "</table>\n",
       "</div>"
      ],
      "text/plain": [
       "   MedianIncome  MigraRate  BirthRate  DeathRate  BachelorRate  \\\n",
       "0         54487        5.3       12.2       10.0          27.7   \n",
       "1         56460       21.5       11.2        9.8          31.3   \n",
       "2         32884      -18.2       10.6       10.8          12.2   \n",
       "3         43079       -0.8       12.1       10.8          11.5   \n",
       "4         47213       -1.0       12.2       11.2          12.6   \n",
       "\n",
       "   UnemploymentRate  MedianIncomeChange  MigraRateChange  BirthRateChange  \\\n",
       "0               5.1                3046             11.4              1.1   \n",
       "1               5.3                7593              3.9              0.1   \n",
       "2               8.3                2597            -11.4             -0.4   \n",
       "3               6.4                5687              3.0              1.3   \n",
       "4               5.4                2988              0.6             -0.2   \n",
       "\n",
       "   DeathRateChange  BachelorRateChange  UnemploymentRateChange  DEMWin12  \n",
       "0             -0.2                 5.8                    -1.8         0  \n",
       "1             -0.2                 2.7                    -2.2         0  \n",
       "2              0.1                -1.4                    -3.2         1  \n",
       "3              0.3                 1.3                    -2.1         0  \n",
       "4              0.9                 0.3                    -1.5         0  "
      ]
     },
     "execution_count": 56,
     "metadata": {},
     "output_type": "execute_result"
    }
   ],
   "source": [
    "# additional features\n",
    "y_12 = df_12[['DEMWin']]\n",
    "df_change = df_16.loc[:,\"MedianIncome\":\"UnemploymentRate\"] - df_12.loc[:,\"MedianIncome\":\"UnemploymentRate\"]\n",
    "df_change = df_change.rename(columns={\"MedianIncome\": \"MedianIncomeChange\", \"MigraRate\": \"MigraRateChange\", \"BirthRate\": \"BirthRateChange\", \"DeathRate\": \"DeathRateChange\", \"BachelorRate\": \"BachelorRateChange\", \"UnemploymentRate\": \"UnemploymentRateChange\"})\n",
    "x_16_add = pd.concat([df_16.loc[:,\"MedianIncome\":\"UnemploymentRate\"], df_change, y_12], axis=1)\n",
    "x_16_add = x_16_add.rename(columns={\"DEMWin\": \"DEMWin12\"})\n",
    "x_16_add.head()"
   ]
  },
  {
   "cell_type": "code",
   "execution_count": 57,
   "metadata": {},
   "outputs": [
    {
     "data": {
      "text/html": [
       "<div>\n",
       "<style scoped>\n",
       "    .dataframe tbody tr th:only-of-type {\n",
       "        vertical-align: middle;\n",
       "    }\n",
       "\n",
       "    .dataframe tbody tr th {\n",
       "        vertical-align: top;\n",
       "    }\n",
       "\n",
       "    .dataframe thead th {\n",
       "        text-align: right;\n",
       "    }\n",
       "</style>\n",
       "<table border=\"1\" class=\"dataframe\">\n",
       "  <thead>\n",
       "    <tr style=\"text-align: right;\">\n",
       "      <th></th>\n",
       "      <th>MedianIncome</th>\n",
       "      <th>MigraRate</th>\n",
       "      <th>BirthRate</th>\n",
       "      <th>DeathRate</th>\n",
       "      <th>BachelorRate</th>\n",
       "      <th>UnemploymentRate</th>\n",
       "      <th>MedianIncomeChange</th>\n",
       "      <th>MigraRateChange</th>\n",
       "      <th>BirthRateChange</th>\n",
       "      <th>DeathRateChange</th>\n",
       "      <th>BachelorRateChange</th>\n",
       "      <th>UnemploymentRateChange</th>\n",
       "      <th>DEMWin12</th>\n",
       "    </tr>\n",
       "  </thead>\n",
       "  <tbody>\n",
       "    <tr>\n",
       "      <th>0</th>\n",
       "      <td>0.402334</td>\n",
       "      <td>0.401981</td>\n",
       "      <td>0.239021</td>\n",
       "      <td>-0.293702</td>\n",
       "      <td>0.675324</td>\n",
       "      <td>-0.056617</td>\n",
       "      <td>-0.516812</td>\n",
       "      <td>0.576326</td>\n",
       "      <td>0.748550</td>\n",
       "      <td>-0.542400</td>\n",
       "      <td>2.067022</td>\n",
       "      <td>0.466768</td>\n",
       "      <td>-0.519314</td>\n",
       "    </tr>\n",
       "    <tr>\n",
       "      <th>1</th>\n",
       "      <td>0.557411</td>\n",
       "      <td>1.631638</td>\n",
       "      <td>-0.167636</td>\n",
       "      <td>-0.365196</td>\n",
       "      <td>1.063329</td>\n",
       "      <td>0.052022</td>\n",
       "      <td>0.919488</td>\n",
       "      <td>0.127665</td>\n",
       "      <td>0.048885</td>\n",
       "      <td>-0.542400</td>\n",
       "      <td>0.589540</td>\n",
       "      <td>0.242528</td>\n",
       "      <td>-0.519314</td>\n",
       "    </tr>\n",
       "    <tr>\n",
       "      <th>2</th>\n",
       "      <td>-1.295646</td>\n",
       "      <td>-1.381779</td>\n",
       "      <td>-0.411630</td>\n",
       "      <td>-0.007724</td>\n",
       "      <td>-0.995255</td>\n",
       "      <td>1.681600</td>\n",
       "      <td>-0.658641</td>\n",
       "      <td>-0.787604</td>\n",
       "      <td>-0.300948</td>\n",
       "      <td>-0.353436</td>\n",
       "      <td>-1.364550</td>\n",
       "      <td>-0.318071</td>\n",
       "      <td>1.924987</td>\n",
       "    </tr>\n",
       "    <tr>\n",
       "      <th>3</th>\n",
       "      <td>-0.494326</td>\n",
       "      <td>-0.061037</td>\n",
       "      <td>0.198355</td>\n",
       "      <td>-0.007724</td>\n",
       "      <td>-1.070700</td>\n",
       "      <td>0.649534</td>\n",
       "      <td>0.317423</td>\n",
       "      <td>0.073826</td>\n",
       "      <td>0.888483</td>\n",
       "      <td>-0.227459</td>\n",
       "      <td>-0.077710</td>\n",
       "      <td>0.298588</td>\n",
       "      <td>-0.519314</td>\n",
       "    </tr>\n",
       "    <tr>\n",
       "      <th>4</th>\n",
       "      <td>-0.169397</td>\n",
       "      <td>-0.076218</td>\n",
       "      <td>0.239021</td>\n",
       "      <td>0.135265</td>\n",
       "      <td>-0.952143</td>\n",
       "      <td>0.106341</td>\n",
       "      <td>-0.535133</td>\n",
       "      <td>-0.069746</td>\n",
       "      <td>-0.161015</td>\n",
       "      <td>0.150469</td>\n",
       "      <td>-0.554318</td>\n",
       "      <td>0.634948</td>\n",
       "      <td>-0.519314</td>\n",
       "    </tr>\n",
       "  </tbody>\n",
       "</table>\n",
       "</div>"
      ],
      "text/plain": [
       "   MedianIncome  MigraRate  BirthRate  DeathRate  BachelorRate  \\\n",
       "0      0.402334   0.401981   0.239021  -0.293702      0.675324   \n",
       "1      0.557411   1.631638  -0.167636  -0.365196      1.063329   \n",
       "2     -1.295646  -1.381779  -0.411630  -0.007724     -0.995255   \n",
       "3     -0.494326  -0.061037   0.198355  -0.007724     -1.070700   \n",
       "4     -0.169397  -0.076218   0.239021   0.135265     -0.952143   \n",
       "\n",
       "   UnemploymentRate  MedianIncomeChange  MigraRateChange  BirthRateChange  \\\n",
       "0         -0.056617           -0.516812         0.576326         0.748550   \n",
       "1          0.052022            0.919488         0.127665         0.048885   \n",
       "2          1.681600           -0.658641        -0.787604        -0.300948   \n",
       "3          0.649534            0.317423         0.073826         0.888483   \n",
       "4          0.106341           -0.535133        -0.069746        -0.161015   \n",
       "\n",
       "   DeathRateChange  BachelorRateChange  UnemploymentRateChange  DEMWin12  \n",
       "0        -0.542400            2.067022                0.466768 -0.519314  \n",
       "1        -0.542400            0.589540                0.242528 -0.519314  \n",
       "2        -0.353436           -1.364550               -0.318071  1.924987  \n",
       "3        -0.227459           -0.077710                0.298588 -0.519314  \n",
       "4         0.150469           -0.554318                0.634948 -0.519314  "
      ]
     },
     "execution_count": 57,
     "metadata": {},
     "output_type": "execute_result"
    }
   ],
   "source": [
    "# normalize columns\n",
    "for i, c in enumerate(x_16_add.columns): \n",
    "    x_16_add[c] = (x_16_add[c]-x_16_add[c].mean()) / x_16_add[c].std()\n",
    "x_16_add.head()"
   ]
  },
  {
   "cell_type": "code",
   "execution_count": 58,
   "metadata": {},
   "outputs": [
    {
     "data": {
      "text/plain": [
       "(3050, 3050)"
      ]
     },
     "execution_count": 58,
     "metadata": {},
     "output_type": "execute_result"
    }
   ],
   "source": [
    "len(x_16_add), len(y_all_16)"
   ]
  },
  {
   "cell_type": "markdown",
   "metadata": {},
   "source": [
    "#### Model 1: kNNs"
   ]
  },
  {
   "cell_type": "code",
   "execution_count": 59,
   "metadata": {},
   "outputs": [],
   "source": [
    "from sklearn.model_selection import train_test_split\n",
    "from sklearn.neighbors import KNeighborsClassifier\n",
    "from sklearn.metrics import accuracy_score\n",
    "\n",
    "# fit data\n",
    "x_trainval, x_test, y_trainval, y_test = train_test_split(x_16, y_all_16, test_size=0.2, random_state=42)\n",
    "x_train, x_val, y_train, y_val = train_test_split(x_trainval, y_trainval, test_size=0.2, random_state=42)\n",
    "\n",
    "max_val_acc = 0\n",
    "max_k = 0\n",
    "val_accuracy = []\n",
    "for k in range(1,51):\n",
    "    model = KNeighborsClassifier(k)\n",
    "    model.fit(x_train, y_train)\n",
    "    predictions = model.predict(x_val)\n",
    "    val_acc = accuracy_score(predictions, y_val)\n",
    "    val_accuracy.append(val_acc)\n",
    "    \n",
    "    if val_acc > max_val_acc:\n",
    "        max_val_acc = val_acc\n",
    "        max_k = k"
   ]
  },
  {
   "cell_type": "code",
   "execution_count": 60,
   "metadata": {},
   "outputs": [
    {
     "data": {
      "image/png": "[encoded data removed]",
      "text/plain": [
       "<Figure size 432x288 with 1 Axes>"
      ]
     },
     "metadata": {
      "needs_background": "light"
     },
     "output_type": "display_data"
    }
   ],
   "source": [
    "plt.plot(range(1,51),val_accuracy)\n",
    "plt.xticks(range(1,51,2),range(1,51,2))\n",
    "plt.xlabel(\"K Number of Neighbors\")\n",
    "plt.ylabel(\"Accuracy\")\n",
    "plt.grid()"
   ]
  },
  {
   "cell_type": "code",
   "execution_count": 61,
   "metadata": {},
   "outputs": [
    {
     "name": "stdout",
     "output_type": "stream",
     "text": [
      "15\n",
      "0.9114754098360656\n",
      "0.8935414383432222\n"
     ]
    }
   ],
   "source": [
    "model = KNeighborsClassifier(max_k)\n",
    "model.fit(x_trainval, y_trainval)\n",
    "predictions = model.predict(x_test)\n",
    "print(max_k)\n",
    "print(accuracy_score(predictions, y_test))\n",
    "print(weighted_accuracy(y_test, predictions))"
   ]
  },
  {
   "cell_type": "code",
   "execution_count": 62,
   "metadata": {},
   "outputs": [],
   "source": [
    "# fit data\n",
    "x_trainval, x_test, y_trainval, y_test = train_test_split(x_16_add, y_all_16, test_size=0.2, random_state=42)\n",
    "x_train, x_val, y_train, y_val = train_test_split(x_trainval, y_trainval, test_size=0.2, random_state=42)\n",
    "\n",
    "max_val_acc = 0\n",
    "max_k = 0\n",
    "val_accuracy = []\n",
    "for k in range(1,51):\n",
    "    model = KNeighborsClassifier(k)\n",
    "    model.fit(x_train, y_train)\n",
    "    predictions = model.predict(x_val)\n",
    "    val_acc = accuracy_score(predictions, y_val)\n",
    "    val_accuracy.append(val_acc)\n",
    "    \n",
    "    if val_acc > max_val_acc:\n",
    "        max_val_acc = val_acc\n",
    "        max_k = k"
   ]
  },
  {
   "cell_type": "code",
   "execution_count": 63,
   "metadata": {},
   "outputs": [
    {
     "data": {
      "image/png": "[encoded data removed]",
      "text/plain": [
       "<Figure size 432x288 with 1 Axes>"
      ]
     },
     "metadata": {
      "needs_background": "light"
     },
     "output_type": "display_data"
    }
   ],
   "source": [
    "plt.plot(range(1,51),val_accuracy)\n",
    "plt.xticks(range(1,51,2),range(1,51,2))\n",
    "plt.xlabel(\"K Number of Neighbors\")\n",
    "plt.ylabel(\"Accuracy\")\n",
    "plt.grid()"
   ]
  },
  {
   "cell_type": "code",
   "execution_count": 64,
   "metadata": {},
   "outputs": [
    {
     "name": "stdout",
     "output_type": "stream",
     "text": [
      "34\n",
      "0.9491803278688524\n",
      "0.8916584199241299\n"
     ]
    }
   ],
   "source": [
    "model = KNeighborsClassifier(max_k)\n",
    "model.fit(x_trainval, y_trainval)\n",
    "predictions = model.predict(x_test)\n",
    "print(max_k)\n",
    "print(accuracy_score(predictions, y_test))\n",
    "print(weighted_accuracy(y_test, predictions))"
   ]
  },
  {
   "cell_type": "code",
   "execution_count": 65,
   "metadata": {},
   "outputs": [],
   "source": [
    "pred_probs = model.predict_proba(x_test)"
   ]
  },
  {
   "cell_type": "code",
   "execution_count": 66,
   "metadata": {},
   "outputs": [
    {
     "data": {
      "image/png": "[encoded data removed]",
      "text/plain": [
       "<Figure size 432x288 with 1 Axes>"
      ]
     },
     "metadata": {
      "needs_background": "light"
     },
     "output_type": "display_data"
    }
   ],
   "source": [
    "%matplotlib inline\n",
    "import matplotlib.pyplot as plt\n",
    "\n",
    "from sklearn.metrics import roc_curve, auc\n",
    "\n",
    "fpr, tpr, thresholds = roc_curve(y_test, pred_probs[:,1])\n",
    "plt.plot(fpr, tpr)\n",
    "plt.show()"
   ]
  },
  {
   "cell_type": "code",
   "execution_count": 67,
   "metadata": {},
   "outputs": [
    {
     "data": {
      "text/plain": [
       "0.9741422070780048"
      ]
     },
     "execution_count": 67,
     "metadata": {},
     "output_type": "execute_result"
    }
   ],
   "source": [
    "auc(fpr, tpr)"
   ]
  },
  {
   "cell_type": "markdown",
   "metadata": {},
   "source": [
    "#### Model 2: Decision Trees"
   ]
  },
  {
   "cell_type": "code",
   "execution_count": 68,
   "metadata": {},
   "outputs": [],
   "source": [
    "from sklearn import model_selection\n",
    "from sklearn.tree import DecisionTreeClassifier\n",
    "\n",
    "max_val_acc = 0\n",
    "best_max_depth = 0\n",
    "val_accuracy = []\n",
    "for k in range(1,31):\n",
    "    # k fold validation\n",
    "    kfold = model_selection.KFold(n_splits=50, shuffle=True, random_state=7)\n",
    "    model = DecisionTreeClassifier(criterion='gini', splitter='best', max_depth=k)\n",
    "    results = model_selection.cross_val_score(model, x_trainval, y_trainval, cv=kfold)\n",
    "    result_mean = results.mean()\n",
    "    val_accuracy.append(result_mean)\n",
    "    \n",
    "    if result_mean > max_val_acc:\n",
    "        max_val_acc = result_mean\n",
    "        best_max_depth = k"
   ]
  },
  {
   "cell_type": "code",
   "execution_count": 69,
   "metadata": {},
   "outputs": [
    {
     "data": {
      "image/png": "[encoded data removed]",
      "text/plain": [
       "<Figure size 432x288 with 1 Axes>"
      ]
     },
     "metadata": {
      "needs_background": "light"
     },
     "output_type": "display_data"
    }
   ],
   "source": [
    "plt.plot(range(1,31),val_accuracy)\n",
    "plt.xticks(range(1,31,2),range(1,31,2))\n",
    "plt.xlabel(\"Max Depth\")\n",
    "plt.ylabel(\"Accuracy\")\n",
    "plt.grid()"
   ]
  },
  {
   "cell_type": "code",
   "execution_count": 70,
   "metadata": {},
   "outputs": [
    {
     "name": "stdout",
     "output_type": "stream",
     "text": [
      "4\n",
      "0.9524590163934427\n",
      "0.8979465611083622\n"
     ]
    }
   ],
   "source": [
    "model = DecisionTreeClassifier(criterion='gini', splitter='best', max_depth=best_max_depth)\n",
    "model.fit(x_trainval, y_trainval)\n",
    "predictions = model.predict(x_test)\n",
    "print(best_max_depth)\n",
    "print(accuracy_score(predictions, y_test))\n",
    "print(weighted_accuracy(y_test, predictions))"
   ]
  },
  {
   "cell_type": "code",
   "execution_count": 71,
   "metadata": {},
   "outputs": [
    {
     "data": {
      "text/plain": [
       "array([[1.   , 0.   ],\n",
       "       [1.   , 0.   ],\n",
       "       [1.   , 0.   ],\n",
       "       ...,\n",
       "       [0.125, 0.875],\n",
       "       [1.   , 0.   ],\n",
       "       [1.   , 0.   ]])"
      ]
     },
     "execution_count": 71,
     "metadata": {},
     "output_type": "execute_result"
    }
   ],
   "source": [
    "pred_probs = model.predict_proba(x_test)\n",
    "pred_probs"
   ]
  },
  {
   "cell_type": "code",
   "execution_count": 72,
   "metadata": {},
   "outputs": [
    {
     "data": {
      "image/png": "[encoded data removed]",
      "text/plain": [
       "<Figure size 432x288 with 1 Axes>"
      ]
     },
     "metadata": {
      "needs_background": "light"
     },
     "output_type": "display_data"
    }
   ],
   "source": [
    "fpr, tpr, thresholds = roc_curve(y_test, pred_probs[:,1])\n",
    "plt.plot(fpr, tpr)\n",
    "plt.show()"
   ]
  },
  {
   "cell_type": "code",
   "execution_count": 73,
   "metadata": {},
   "outputs": [
    {
     "data": {
      "text/plain": [
       "0.9703681338825508"
      ]
     },
     "execution_count": 73,
     "metadata": {},
     "output_type": "execute_result"
    }
   ],
   "source": [
    "auc(fpr, tpr)"
   ]
  },
  {
   "cell_type": "markdown",
   "metadata": {},
   "source": [
    "#### Model 3: Gradient Boosting"
   ]
  },
  {
   "cell_type": "code",
   "execution_count": 27,
   "metadata": {},
   "outputs": [
    {
     "ename": "KeyboardInterrupt",
     "evalue": "",
     "output_type": "error",
     "traceback": [
      "\u001b[0;31m---------------------------------------------------------------------------\u001b[0m",
      "\u001b[0;31mKeyboardInterrupt\u001b[0m                         Traceback (most recent call last)",
      "\u001b[0;32m<ipython-input-27-387bae5379ee>\u001b[0m in \u001b[0;36m<module>\u001b[0;34m\u001b[0m\n\u001b[1;32m     21\u001b[0m \u001b[0mclf\u001b[0m \u001b[0;34m=\u001b[0m \u001b[0mGridSearchCV\u001b[0m\u001b[0;34m(\u001b[0m\u001b[0mGradientBoostingClassifier\u001b[0m\u001b[0;34m(\u001b[0m\u001b[0;34m)\u001b[0m\u001b[0;34m,\u001b[0m \u001b[0mparameters\u001b[0m\u001b[0;34m,\u001b[0m \u001b[0mscoring\u001b[0m\u001b[0;34m=\u001b[0m\u001b[0mscoring\u001b[0m\u001b[0;34m,\u001b[0m \u001b[0mrefit\u001b[0m\u001b[0;34m=\u001b[0m\u001b[0;32mFalse\u001b[0m\u001b[0;34m,\u001b[0m \u001b[0mcv\u001b[0m\u001b[0;34m=\u001b[0m\u001b[0;32mNone\u001b[0m\u001b[0;34m,\u001b[0m \u001b[0mn_jobs\u001b[0m\u001b[0;34m=\u001b[0m\u001b[0;34m-\u001b[0m\u001b[0;36m1\u001b[0m\u001b[0;34m)\u001b[0m\u001b[0;34m\u001b[0m\u001b[0;34m\u001b[0m\u001b[0m\n\u001b[1;32m     22\u001b[0m \u001b[0;34m\u001b[0m\u001b[0m\n\u001b[0;32m---> 23\u001b[0;31m \u001b[0mclf\u001b[0m\u001b[0;34m.\u001b[0m\u001b[0mfit\u001b[0m\u001b[0;34m(\u001b[0m\u001b[0mx_trainval\u001b[0m\u001b[0;34m,\u001b[0m \u001b[0my_trainval\u001b[0m\u001b[0;34m)\u001b[0m\u001b[0;34m\u001b[0m\u001b[0;34m\u001b[0m\u001b[0m\n\u001b[0m\u001b[1;32m     24\u001b[0m \u001b[0;34m\u001b[0m\u001b[0m\n\u001b[1;32m     25\u001b[0m \u001b[0mdf\u001b[0m\u001b[0;34m=\u001b[0m\u001b[0mpd\u001b[0m\u001b[0;34m.\u001b[0m\u001b[0mDataFrame\u001b[0m\u001b[0;34m.\u001b[0m\u001b[0mfrom_dict\u001b[0m\u001b[0;34m(\u001b[0m\u001b[0mclf\u001b[0m\u001b[0;34m.\u001b[0m\u001b[0mcv_results_\u001b[0m\u001b[0;34m)\u001b[0m\u001b[0;34m\u001b[0m\u001b[0;34m\u001b[0m\u001b[0m\n",
      "\u001b[0;32m~/Desktop/cs4780-final/ml-venv/lib/python3.8/site-packages/sklearn/utils/validation.py\u001b[0m in \u001b[0;36minner_f\u001b[0;34m(*args, **kwargs)\u001b[0m\n\u001b[1;32m     70\u001b[0m                           FutureWarning)\n\u001b[1;32m     71\u001b[0m         \u001b[0mkwargs\u001b[0m\u001b[0;34m.\u001b[0m\u001b[0mupdate\u001b[0m\u001b[0;34m(\u001b[0m\u001b[0;34m{\u001b[0m\u001b[0mk\u001b[0m\u001b[0;34m:\u001b[0m \u001b[0marg\u001b[0m \u001b[0;32mfor\u001b[0m \u001b[0mk\u001b[0m\u001b[0;34m,\u001b[0m \u001b[0marg\u001b[0m \u001b[0;32min\u001b[0m \u001b[0mzip\u001b[0m\u001b[0;34m(\u001b[0m\u001b[0msig\u001b[0m\u001b[0;34m.\u001b[0m\u001b[0mparameters\u001b[0m\u001b[0;34m,\u001b[0m \u001b[0margs\u001b[0m\u001b[0;34m)\u001b[0m\u001b[0;34m}\u001b[0m\u001b[0;34m)\u001b[0m\u001b[0;34m\u001b[0m\u001b[0;34m\u001b[0m\u001b[0m\n\u001b[0;32m---> 72\u001b[0;31m         \u001b[0;32mreturn\u001b[0m \u001b[0mf\u001b[0m\u001b[0;34m(\u001b[0m\u001b[0;34m**\u001b[0m\u001b[0mkwargs\u001b[0m\u001b[0;34m)\u001b[0m\u001b[0;34m\u001b[0m\u001b[0;34m\u001b[0m\u001b[0m\n\u001b[0m\u001b[1;32m     73\u001b[0m     \u001b[0;32mreturn\u001b[0m \u001b[0minner_f\u001b[0m\u001b[0;34m\u001b[0m\u001b[0;34m\u001b[0m\u001b[0m\n\u001b[1;32m     74\u001b[0m \u001b[0;34m\u001b[0m\u001b[0m\n",
      "\u001b[0;32m~/Desktop/cs4780-final/ml-venv/lib/python3.8/site-packages/sklearn/model_selection/_search.py\u001b[0m in \u001b[0;36mfit\u001b[0;34m(self, X, y, groups, **fit_params)\u001b[0m\n\u001b[1;32m    734\u001b[0m                 \u001b[0;32mreturn\u001b[0m \u001b[0mresults\u001b[0m\u001b[0;34m\u001b[0m\u001b[0;34m\u001b[0m\u001b[0m\n\u001b[1;32m    735\u001b[0m \u001b[0;34m\u001b[0m\u001b[0m\n\u001b[0;32m--> 736\u001b[0;31m             \u001b[0mself\u001b[0m\u001b[0;34m.\u001b[0m\u001b[0m_run_search\u001b[0m\u001b[0;34m(\u001b[0m\u001b[0mevaluate_candidates\u001b[0m\u001b[0;34m)\u001b[0m\u001b[0;34m\u001b[0m\u001b[0;34m\u001b[0m\u001b[0m\n\u001b[0m\u001b[1;32m    737\u001b[0m \u001b[0;34m\u001b[0m\u001b[0m\n\u001b[1;32m    738\u001b[0m         \u001b[0;31m# For multi-metric evaluation, store the best_index_, best_params_ and\u001b[0m\u001b[0;34m\u001b[0m\u001b[0;34m\u001b[0m\u001b[0;34m\u001b[0m\u001b[0m\n",
      "\u001b[0;32m~/Desktop/cs4780-final/ml-venv/lib/python3.8/site-packages/sklearn/model_selection/_search.py\u001b[0m in \u001b[0;36m_run_search\u001b[0;34m(self, evaluate_candidates)\u001b[0m\n\u001b[1;32m   1186\u001b[0m     \u001b[0;32mdef\u001b[0m \u001b[0m_run_search\u001b[0m\u001b[0;34m(\u001b[0m\u001b[0mself\u001b[0m\u001b[0;34m,\u001b[0m \u001b[0mevaluate_candidates\u001b[0m\u001b[0;34m)\u001b[0m\u001b[0;34m:\u001b[0m\u001b[0;34m\u001b[0m\u001b[0;34m\u001b[0m\u001b[0m\n\u001b[1;32m   1187\u001b[0m         \u001b[0;34m\"\"\"Search all candidates in param_grid\"\"\"\u001b[0m\u001b[0;34m\u001b[0m\u001b[0;34m\u001b[0m\u001b[0m\n\u001b[0;32m-> 1188\u001b[0;31m         \u001b[0mevaluate_candidates\u001b[0m\u001b[0;34m(\u001b[0m\u001b[0mParameterGrid\u001b[0m\u001b[0;34m(\u001b[0m\u001b[0mself\u001b[0m\u001b[0;34m.\u001b[0m\u001b[0mparam_grid\u001b[0m\u001b[0;34m)\u001b[0m\u001b[0;34m)\u001b[0m\u001b[0;34m\u001b[0m\u001b[0;34m\u001b[0m\u001b[0m\n\u001b[0m\u001b[1;32m   1189\u001b[0m \u001b[0;34m\u001b[0m\u001b[0m\n\u001b[1;32m   1190\u001b[0m \u001b[0;34m\u001b[0m\u001b[0m\n",
      "\u001b[0;32m~/Desktop/cs4780-final/ml-venv/lib/python3.8/site-packages/sklearn/model_selection/_search.py\u001b[0m in \u001b[0;36mevaluate_candidates\u001b[0;34m(candidate_params)\u001b[0m\n\u001b[1;32m    706\u001b[0m                               n_splits, n_candidates, n_candidates * n_splits))\n\u001b[1;32m    707\u001b[0m \u001b[0;34m\u001b[0m\u001b[0m\n\u001b[0;32m--> 708\u001b[0;31m                 out = parallel(delayed(_fit_and_score)(clone(base_estimator),\n\u001b[0m\u001b[1;32m    709\u001b[0m                                                        \u001b[0mX\u001b[0m\u001b[0;34m,\u001b[0m \u001b[0my\u001b[0m\u001b[0;34m,\u001b[0m\u001b[0;34m\u001b[0m\u001b[0;34m\u001b[0m\u001b[0m\n\u001b[1;32m    710\u001b[0m                                                        \u001b[0mtrain\u001b[0m\u001b[0;34m=\u001b[0m\u001b[0mtrain\u001b[0m\u001b[0;34m,\u001b[0m \u001b[0mtest\u001b[0m\u001b[0;34m=\u001b[0m\u001b[0mtest\u001b[0m\u001b[0;34m,\u001b[0m\u001b[0;34m\u001b[0m\u001b[0;34m\u001b[0m\u001b[0m\n",
      "\u001b[0;32m~/Desktop/cs4780-final/ml-venv/lib/python3.8/site-packages/joblib/parallel.py\u001b[0m in \u001b[0;36m__call__\u001b[0;34m(self, iterable)\u001b[0m\n\u001b[1;32m   1059\u001b[0m \u001b[0;34m\u001b[0m\u001b[0m\n\u001b[1;32m   1060\u001b[0m             \u001b[0;32mwith\u001b[0m \u001b[0mself\u001b[0m\u001b[0;34m.\u001b[0m\u001b[0m_backend\u001b[0m\u001b[0;34m.\u001b[0m\u001b[0mretrieval_context\u001b[0m\u001b[0;34m(\u001b[0m\u001b[0;34m)\u001b[0m\u001b[0;34m:\u001b[0m\u001b[0;34m\u001b[0m\u001b[0;34m\u001b[0m\u001b[0m\n\u001b[0;32m-> 1061\u001b[0;31m                 \u001b[0mself\u001b[0m\u001b[0;34m.\u001b[0m\u001b[0mretrieve\u001b[0m\u001b[0;34m(\u001b[0m\u001b[0;34m)\u001b[0m\u001b[0;34m\u001b[0m\u001b[0;34m\u001b[0m\u001b[0m\n\u001b[0m\u001b[1;32m   1062\u001b[0m             \u001b[0;31m# Make sure that we get a last message telling us we are done\u001b[0m\u001b[0;34m\u001b[0m\u001b[0;34m\u001b[0m\u001b[0;34m\u001b[0m\u001b[0m\n\u001b[1;32m   1063\u001b[0m             \u001b[0melapsed_time\u001b[0m \u001b[0;34m=\u001b[0m \u001b[0mtime\u001b[0m\u001b[0;34m.\u001b[0m\u001b[0mtime\u001b[0m\u001b[0;34m(\u001b[0m\u001b[0;34m)\u001b[0m \u001b[0;34m-\u001b[0m \u001b[0mself\u001b[0m\u001b[0;34m.\u001b[0m\u001b[0m_start_time\u001b[0m\u001b[0;34m\u001b[0m\u001b[0;34m\u001b[0m\u001b[0m\n",
      "\u001b[0;32m~/Desktop/cs4780-final/ml-venv/lib/python3.8/site-packages/joblib/parallel.py\u001b[0m in \u001b[0;36mretrieve\u001b[0;34m(self)\u001b[0m\n\u001b[1;32m    938\u001b[0m             \u001b[0;32mtry\u001b[0m\u001b[0;34m:\u001b[0m\u001b[0;34m\u001b[0m\u001b[0;34m\u001b[0m\u001b[0m\n\u001b[1;32m    939\u001b[0m                 \u001b[0;32mif\u001b[0m \u001b[0mgetattr\u001b[0m\u001b[0;34m(\u001b[0m\u001b[0mself\u001b[0m\u001b[0;34m.\u001b[0m\u001b[0m_backend\u001b[0m\u001b[0;34m,\u001b[0m \u001b[0;34m'supports_timeout'\u001b[0m\u001b[0;34m,\u001b[0m \u001b[0;32mFalse\u001b[0m\u001b[0;34m)\u001b[0m\u001b[0;34m:\u001b[0m\u001b[0;34m\u001b[0m\u001b[0;34m\u001b[0m\u001b[0m\n\u001b[0;32m--> 940\u001b[0;31m                     \u001b[0mself\u001b[0m\u001b[0;34m.\u001b[0m\u001b[0m_output\u001b[0m\u001b[0;34m.\u001b[0m\u001b[0mextend\u001b[0m\u001b[0;34m(\u001b[0m\u001b[0mjob\u001b[0m\u001b[0;34m.\u001b[0m\u001b[0mget\u001b[0m\u001b[0;34m(\u001b[0m\u001b[0mtimeout\u001b[0m\u001b[0;34m=\u001b[0m\u001b[0mself\u001b[0m\u001b[0;34m.\u001b[0m\u001b[0mtimeout\u001b[0m\u001b[0;34m)\u001b[0m\u001b[0;34m)\u001b[0m\u001b[0;34m\u001b[0m\u001b[0;34m\u001b[0m\u001b[0m\n\u001b[0m\u001b[1;32m    941\u001b[0m                 \u001b[0;32melse\u001b[0m\u001b[0;34m:\u001b[0m\u001b[0;34m\u001b[0m\u001b[0;34m\u001b[0m\u001b[0m\n\u001b[1;32m    942\u001b[0m                     \u001b[0mself\u001b[0m\u001b[0;34m.\u001b[0m\u001b[0m_output\u001b[0m\u001b[0;34m.\u001b[0m\u001b[0mextend\u001b[0m\u001b[0;34m(\u001b[0m\u001b[0mjob\u001b[0m\u001b[0;34m.\u001b[0m\u001b[0mget\u001b[0m\u001b[0;34m(\u001b[0m\u001b[0;34m)\u001b[0m\u001b[0;34m)\u001b[0m\u001b[0;34m\u001b[0m\u001b[0;34m\u001b[0m\u001b[0m\n",
      "\u001b[0;32m~/Desktop/cs4780-final/ml-venv/lib/python3.8/site-packages/joblib/_parallel_backends.py\u001b[0m in \u001b[0;36mwrap_future_result\u001b[0;34m(future, timeout)\u001b[0m\n\u001b[1;32m    540\u001b[0m         AsyncResults.get from multiprocessing.\"\"\"\n\u001b[1;32m    541\u001b[0m         \u001b[0;32mtry\u001b[0m\u001b[0;34m:\u001b[0m\u001b[0;34m\u001b[0m\u001b[0;34m\u001b[0m\u001b[0m\n\u001b[0;32m--> 542\u001b[0;31m             \u001b[0;32mreturn\u001b[0m \u001b[0mfuture\u001b[0m\u001b[0;34m.\u001b[0m\u001b[0mresult\u001b[0m\u001b[0;34m(\u001b[0m\u001b[0mtimeout\u001b[0m\u001b[0;34m=\u001b[0m\u001b[0mtimeout\u001b[0m\u001b[0;34m)\u001b[0m\u001b[0;34m\u001b[0m\u001b[0;34m\u001b[0m\u001b[0m\n\u001b[0m\u001b[1;32m    543\u001b[0m         \u001b[0;32mexcept\u001b[0m \u001b[0mCfTimeoutError\u001b[0m \u001b[0;32mas\u001b[0m \u001b[0me\u001b[0m\u001b[0;34m:\u001b[0m\u001b[0;34m\u001b[0m\u001b[0;34m\u001b[0m\u001b[0m\n\u001b[1;32m    544\u001b[0m             \u001b[0;32mraise\u001b[0m \u001b[0mTimeoutError\u001b[0m \u001b[0;32mfrom\u001b[0m \u001b[0me\u001b[0m\u001b[0;34m\u001b[0m\u001b[0;34m\u001b[0m\u001b[0m\n",
      "\u001b[0;32m/usr/local/Cellar/python@3.8/3.8.5/Frameworks/Python.framework/Versions/3.8/lib/python3.8/concurrent/futures/_base.py\u001b[0m in \u001b[0;36mresult\u001b[0;34m(self, timeout)\u001b[0m\n\u001b[1;32m    432\u001b[0m                 \u001b[0;32mreturn\u001b[0m \u001b[0mself\u001b[0m\u001b[0;34m.\u001b[0m\u001b[0m__get_result\u001b[0m\u001b[0;34m(\u001b[0m\u001b[0;34m)\u001b[0m\u001b[0;34m\u001b[0m\u001b[0;34m\u001b[0m\u001b[0m\n\u001b[1;32m    433\u001b[0m \u001b[0;34m\u001b[0m\u001b[0m\n\u001b[0;32m--> 434\u001b[0;31m             \u001b[0mself\u001b[0m\u001b[0;34m.\u001b[0m\u001b[0m_condition\u001b[0m\u001b[0;34m.\u001b[0m\u001b[0mwait\u001b[0m\u001b[0;34m(\u001b[0m\u001b[0mtimeout\u001b[0m\u001b[0;34m)\u001b[0m\u001b[0;34m\u001b[0m\u001b[0;34m\u001b[0m\u001b[0m\n\u001b[0m\u001b[1;32m    435\u001b[0m \u001b[0;34m\u001b[0m\u001b[0m\n\u001b[1;32m    436\u001b[0m             \u001b[0;32mif\u001b[0m \u001b[0mself\u001b[0m\u001b[0;34m.\u001b[0m\u001b[0m_state\u001b[0m \u001b[0;32min\u001b[0m \u001b[0;34m[\u001b[0m\u001b[0mCANCELLED\u001b[0m\u001b[0;34m,\u001b[0m \u001b[0mCANCELLED_AND_NOTIFIED\u001b[0m\u001b[0;34m]\u001b[0m\u001b[0;34m:\u001b[0m\u001b[0;34m\u001b[0m\u001b[0;34m\u001b[0m\u001b[0m\n",
      "\u001b[0;32m/usr/local/Cellar/python@3.8/3.8.5/Frameworks/Python.framework/Versions/3.8/lib/python3.8/threading.py\u001b[0m in \u001b[0;36mwait\u001b[0;34m(self, timeout)\u001b[0m\n\u001b[1;32m    300\u001b[0m         \u001b[0;32mtry\u001b[0m\u001b[0;34m:\u001b[0m    \u001b[0;31m# restore state no matter what (e.g., KeyboardInterrupt)\u001b[0m\u001b[0;34m\u001b[0m\u001b[0;34m\u001b[0m\u001b[0m\n\u001b[1;32m    301\u001b[0m             \u001b[0;32mif\u001b[0m \u001b[0mtimeout\u001b[0m \u001b[0;32mis\u001b[0m \u001b[0;32mNone\u001b[0m\u001b[0;34m:\u001b[0m\u001b[0;34m\u001b[0m\u001b[0;34m\u001b[0m\u001b[0m\n\u001b[0;32m--> 302\u001b[0;31m                 \u001b[0mwaiter\u001b[0m\u001b[0;34m.\u001b[0m\u001b[0macquire\u001b[0m\u001b[0;34m(\u001b[0m\u001b[0;34m)\u001b[0m\u001b[0;34m\u001b[0m\u001b[0;34m\u001b[0m\u001b[0m\n\u001b[0m\u001b[1;32m    303\u001b[0m                 \u001b[0mgotit\u001b[0m \u001b[0;34m=\u001b[0m \u001b[0;32mTrue\u001b[0m\u001b[0;34m\u001b[0m\u001b[0;34m\u001b[0m\u001b[0m\n\u001b[1;32m    304\u001b[0m             \u001b[0;32melse\u001b[0m\u001b[0;34m:\u001b[0m\u001b[0;34m\u001b[0m\u001b[0;34m\u001b[0m\u001b[0m\n",
      "\u001b[0;31mKeyboardInterrupt\u001b[0m: "
     ]
    }
   ],
   "source": [
    "from sklearn.ensemble import GradientBoostingClassifier\n",
    "\n",
    "from sklearn.model_selection import GridSearchCV\n",
    "from sklearn.metrics import accuracy_score\n",
    "from sklearn.metrics import precision_score\n",
    "from sklearn.metrics import recall_score\n",
    "from sklearn.metrics import make_scorer\n",
    "\n",
    "scoring = {\n",
    "            'accuracy': make_scorer(accuracy_score),\n",
    "            'weighted_average': make_scorer(weighted_accuracy)\n",
    "          }\n",
    "\n",
    "parameters = {\n",
    "    \"max_depth\": np.arange(1, 21),\n",
    "    \"n_estimators\": np.arange(1, 51)\n",
    "#     \"max_features\":[\"auto\", \"log2\",\"sqrt\"],\n",
    "#     \"criterion\": [\"friedman_mse\", \"mse\", \"mae\"],\n",
    "    }\n",
    "#passing the scoring function in the GridSearchCV\n",
    "clf = GridSearchCV(GradientBoostingClassifier(), parameters, scoring=scoring, refit=False, cv=None, n_jobs=-1)\n",
    "\n",
    "clf.fit(x_trainval, y_trainval)\n",
    "\n",
    "df=pd.DataFrame.from_dict(clf.cv_results_)\n",
    "df # takes too long to run gdi my laptop gonna die"
   ]
  },
  {
   "cell_type": "code",
   "execution_count": null,
   "metadata": {},
   "outputs": [],
   "source": [
    "df.columns"
   ]
  },
  {
   "cell_type": "code",
   "execution_count": 125,
   "metadata": {},
   "outputs": [],
   "source": [
    "max_idx_1 = df['mean_test_accuracy'].argmax()\n",
    "# max_idx_2 = df['mean_test_weighted_average'].argmax()"
   ]
  },
  {
   "cell_type": "code",
   "execution_count": 137,
   "metadata": {},
   "outputs": [
    {
     "data": {
      "text/plain": [
       "{'max_depth': 3, 'n_estimators': 21}"
      ]
     },
     "execution_count": 137,
     "metadata": {},
     "output_type": "execute_result"
    }
   ],
   "source": [
    "df['params'][max_idx_1] #, df['params'][max_idx_2]"
   ]
  },
  {
   "cell_type": "code",
   "execution_count": 139,
   "metadata": {},
   "outputs": [
    {
     "name": "stdout",
     "output_type": "stream",
     "text": [
      "0.9508196721311475\n",
      "0.8936126724578437\n"
     ]
    }
   ],
   "source": [
    "model = GradientBoostingClassifier(n_estimators=21, max_depth=3, random_state=7)\n",
    "model.fit(x_trainval, y_trainval)\n",
    "predictions = model.predict(x_test)\n",
    "print(accuracy_score(predictions, y_test))\n",
    "print(weighted_accuracy(y_test, predictions))"
   ]
  },
  {
   "cell_type": "code",
   "execution_count": 140,
   "metadata": {},
   "outputs": [
    {
     "data": {
      "text/plain": [
       "array([[0.98051146, 0.01948854],\n",
       "       [0.98051146, 0.01948854],\n",
       "       [0.98051146, 0.01948854],\n",
       "       ...,\n",
       "       [0.26233287, 0.73766713],\n",
       "       [0.98051146, 0.01948854],\n",
       "       [0.98051146, 0.01948854]])"
      ]
     },
     "execution_count": 140,
     "metadata": {},
     "output_type": "execute_result"
    }
   ],
   "source": [
    "pred_probs = model.predict_proba(x_test)\n",
    "pred_probs"
   ]
  },
  {
   "cell_type": "code",
   "execution_count": 141,
   "metadata": {},
   "outputs": [
    {
     "data": {
      "image/png": "[encoded data removed]",
      "text/plain": [
       "<Figure size 432x288 with 1 Axes>"
      ]
     },
     "metadata": {
      "needs_background": "light"
     },
     "output_type": "display_data"
    }
   ],
   "source": [
    "fpr, tpr, thresholds = roc_curve(y_test, pred_probs[:,1])\n",
    "plt.plot(fpr, tpr)\n",
    "plt.show()"
   ]
  },
  {
   "cell_type": "code",
   "execution_count": 142,
   "metadata": {},
   "outputs": [
    {
     "data": {
      "text/plain": [
       "0.9814854752097306"
      ]
     },
     "execution_count": 142,
     "metadata": {},
     "output_type": "execute_result"
    }
   ],
   "source": [
    "auc(fpr, tpr)"
   ]
  },
  {
   "cell_type": "markdown",
   "metadata": {},
   "source": [
    "#### Model 4: EBMs"
   ]
  },
  {
   "cell_type": "code",
   "execution_count": 74,
   "metadata": {},
   "outputs": [
    {
     "data": {
      "text/html": [
       "<!-- http://127.0.0.1:7001/5016811504/ -->\n",
       "<iframe src=\"http://127.0.0.1:7001/5016811504/\" width=100% height=800 frameBorder=\"0\"></iframe>"
      ]
     },
     "metadata": {},
     "output_type": "display_data"
    }
   ],
   "source": [
    "from interpret import show\n",
    "from interpret.data import ClassHistogram\n",
    "\n",
    "hist = ClassHistogram().explain_data(x_trainval, y_trainval, name = 'Train Data')\n",
    "show(hist)"
   ]
  },
  {
   "cell_type": "code",
   "execution_count": 75,
   "metadata": {},
   "outputs": [
    {
     "data": {
      "text/plain": [
       "ExplainableBoostingClassifier(feature_names=['MedianIncome', 'MigraRate',\n",
       "                                             'BirthRate', 'DeathRate',\n",
       "                                             'BachelorRate', 'UnemploymentRate',\n",
       "                                             'MedianIncomeChange',\n",
       "                                             'MigraRateChange',\n",
       "                                             'BirthRateChange',\n",
       "                                             'DeathRateChange',\n",
       "                                             'BachelorRateChange',\n",
       "                                             'UnemploymentRateChange',\n",
       "                                             'DEMWin12'],\n",
       "                              feature_types=['continuous', 'continuous',\n",
       "                                             'continuous', 'continuous',\n",
       "                                             'continuous', 'continuous',\n",
       "                                             'continuous', 'continuous',\n",
       "                                             'continuous', 'continuous',\n",
       "                                             'continuous', 'continuous',\n",
       "                                             'categorical'])"
      ]
     },
     "execution_count": 75,
     "metadata": {},
     "output_type": "execute_result"
    }
   ],
   "source": [
    "from interpret.glassbox import ExplainableBoostingClassifier, LogisticRegression, ClassificationTree, DecisionListClassifier\n",
    "\n",
    "ebm = ExplainableBoostingClassifier(random_state=42)\n",
    "ebm.fit(x_trainval, y_trainval)"
   ]
  },
  {
   "cell_type": "code",
   "execution_count": 76,
   "metadata": {},
   "outputs": [
    {
     "data": {
      "text/html": [
       "<!-- http://127.0.0.1:7001/5030121232/ -->\n",
       "<iframe src=\"http://127.0.0.1:7001/5030121232/\" width=100% height=800 frameBorder=\"0\"></iframe>"
      ]
     },
     "metadata": {},
     "output_type": "display_data"
    }
   ],
   "source": [
    "ebm_global = ebm.explain_global(name='EBM')\n",
    "show(ebm_global)"
   ]
  },
  {
   "cell_type": "code",
   "execution_count": 77,
   "metadata": {},
   "outputs": [
    {
     "data": {
      "text/html": [
       "<!-- http://127.0.0.1:7001/5020421088/ -->\n",
       "<iframe src=\"http://127.0.0.1:7001/5020421088/\" width=100% height=800 frameBorder=\"0\"></iframe>"
      ]
     },
     "metadata": {},
     "output_type": "display_data"
    }
   ],
   "source": [
    "ebm_local = ebm.explain_local(x_test, y_test, name='EBM')\n",
    "show(ebm_local)"
   ]
  },
  {
   "cell_type": "code",
   "execution_count": 78,
   "metadata": {},
   "outputs": [
    {
     "data": {
      "text/html": [
       "<!-- http://127.0.0.1:7001/5020443360/ -->\n",
       "<iframe src=\"http://127.0.0.1:7001/5020443360/\" width=100% height=800 frameBorder=\"0\"></iframe>"
      ]
     },
     "metadata": {},
     "output_type": "display_data"
    }
   ],
   "source": [
    "from interpret.perf import ROC\n",
    "\n",
    "ebm_perf = ROC(ebm.predict_proba).explain_perf(x_test, y_test, name='EBM')\n",
    "show(ebm_perf)"
   ]
  },
  {
   "cell_type": "code",
   "execution_count": 79,
   "metadata": {},
   "outputs": [
    {
     "data": {
      "text/plain": [
       "<interpret.glassbox.decisiontree.ClassificationTree at 0x12b952ca0>"
      ]
     },
     "execution_count": 79,
     "metadata": {},
     "output_type": "execute_result"
    }
   ],
   "source": [
    "from interpret.glassbox import LogisticRegression, ClassificationTree\n",
    "\n",
    "lr = LogisticRegression(random_state=42, feature_names=feature_names, penalty='l1', solver='liblinear')\n",
    "lr.fit(x_trainval, y_trainval)\n",
    "\n",
    "tree = ClassificationTree()\n",
    "tree.fit(x_trainval, y_trainval)"
   ]
  },
  {
   "cell_type": "code",
   "execution_count": 80,
   "metadata": {},
   "outputs": [
    {
     "data": {
      "text/html": [
       "<!-- http://127.0.0.1:7001/5016904704/ -->\n",
       "<iframe src=\"http://127.0.0.1:7001/5016904704/\" width=100% height=800 frameBorder=\"0\"></iframe>"
      ]
     },
     "metadata": {},
     "output_type": "display_data"
    },
    {
     "data": {
      "text/html": [
       "<!-- http://127.0.0.1:7001/5020443696/ -->\n",
       "<iframe src=\"http://127.0.0.1:7001/5020443696/\" width=100% height=800 frameBorder=\"0\"></iframe>"
      ]
     },
     "metadata": {},
     "output_type": "display_data"
    },
    {
     "data": {
      "text/html": [
       "<!-- http://127.0.0.1:7001/5020443360/ -->\n",
       "<iframe src=\"http://127.0.0.1:7001/5020443360/\" width=100% height=800 frameBorder=\"0\"></iframe>"
      ]
     },
     "metadata": {},
     "output_type": "display_data"
    }
   ],
   "source": [
    "lr_perf = ROC(lr.predict_proba).explain_perf(x_test, y_test, name='Logistic Regression')\n",
    "tree_perf = ROC(tree.predict_proba).explain_perf(x_test, y_test, name='Classification Tree')\n",
    "\n",
    "show(lr_perf)\n",
    "show(tree_perf)\n",
    "show(ebm_perf)"
   ]
  },
  {
   "cell_type": "code",
   "execution_count": 81,
   "metadata": {},
   "outputs": [
    {
     "data": {
      "text/html": [
       "<!-- http://127.0.0.1:7001/5016675040/ -->\n",
       "<iframe src=\"http://127.0.0.1:7001/5016675040/\" width=100% height=800 frameBorder=\"0\"></iframe>"
      ]
     },
     "metadata": {},
     "output_type": "display_data"
    }
   ],
   "source": [
    "lr_global = lr.explain_global(name='Logistic Regression')\n",
    "tree_global = tree.explain_global(name='Classification Tree')\n",
    "\n",
    "show(lr_global)"
   ]
  },
  {
   "cell_type": "code",
   "execution_count": 82,
   "metadata": {},
   "outputs": [
    {
     "data": {
      "text/html": [
       "<!-- http://127.0.0.1:7001/5016677968/ -->\n",
       "<iframe src=\"http://127.0.0.1:7001/5016677968/\" width=100% height=800 frameBorder=\"0\"></iframe>"
      ]
     },
     "metadata": {},
     "output_type": "display_data"
    }
   ],
   "source": [
    "show(tree_global)"
   ]
  },
  {
   "cell_type": "code",
   "execution_count": 83,
   "metadata": {},
   "outputs": [
    {
     "data": {
      "text/html": [
       "<!-- http://127.0.0.1:7001/5030121232/ -->\n",
       "<iframe src=\"http://127.0.0.1:7001/5030121232/\" width=100% height=800 frameBorder=\"0\"></iframe>"
      ]
     },
     "metadata": {},
     "output_type": "display_data"
    }
   ],
   "source": [
    "show(ebm_global)"
   ]
  },
  {
   "cell_type": "code",
   "execution_count": 48,
   "metadata": {},
   "outputs": [
    {
     "data": {
      "text/html": [
       "<!-- http://127.0.0.1:7001/5028171328/ -->\n",
       "<a href=\"http://127.0.0.1:7001/5028171328/\" target=\"_new\">Open in new window</a><iframe src=\"http://127.0.0.1:7001/5028171328/\" width=100% height=800 frameBorder=\"0\"></iframe>"
      ]
     },
     "metadata": {},
     "output_type": "display_data"
    }
   ],
   "source": [
    "show([hist, lr_global, lr_perf, tree_global, tree_perf, ebm_global, ebm_perf], share_tables=True)"
   ]
  },
  {
   "cell_type": "code",
   "execution_count": null,
   "metadata": {},
   "outputs": [],
   "source": []
  }
 ],
 "metadata": {
  "kernelspec": {
   "display_name": "ml-venv",
   "language": "python",
   "name": "ml-venv"
  },
  "language_info": {
   "codemirror_mode": {
    "name": "ipython",
    "version": 3
   },
   "file_extension": ".py",
   "mimetype": "text/x-python",
   "name": "python",
   "nbconvert_exporter": "python",
   "pygments_lexer": "ipython3",
   "version": "3.8.5"
  }
 },
 "nbformat": 4,
 "nbformat_minor": 4
}
