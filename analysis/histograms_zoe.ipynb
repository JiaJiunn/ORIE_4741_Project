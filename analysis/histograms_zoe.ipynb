{
 "cells": [
  {
   "cell_type": "code",
   "execution_count": 2,
   "metadata": {},
   "outputs": [],
   "source": [
    "import numpy as np\n",
    "import pandas as pd\n",
    "from matplotlib import pyplot as plt"
   ]
  },
  {
   "cell_type": "code",
   "execution_count": 32,
   "metadata": {},
   "outputs": [
    {
     "data": {
      "text/plain": [
       "FIPS                      int64\n",
       "County                   object\n",
       "DEM                     float64\n",
       "GOP                     float64\n",
       "MedianIncome             object\n",
       "MigraRate               float64\n",
       "BirthRate               float64\n",
       "DeathRate               float64\n",
       "BachelorRate            float64\n",
       "UnemploymentRate        float64\n",
       "State                    object\n",
       "zip                     float64\n",
       "primary_city             object\n",
       "latitude                float64\n",
       "longitude               float64\n",
       "estimated_population    float64\n",
       "dtype: object"
      ]
     },
     "execution_count": 32,
     "metadata": {},
     "output_type": "execute_result"
    }
   ],
   "source": [
    "df = pd.read_csv('/Users/zoepan/Desktop/orie4741_project/data/county_2016_preprocessed1.csv')\n",
    "df.dtypes"
   ]
  },
  {
   "cell_type": "code",
   "execution_count": 48,
   "metadata": {},
   "outputs": [
    {
     "data": {
      "text/plain": [
       "State                    object\n",
       "MedianIncome            float64\n",
       "UnemploymentRate        float64\n",
       "estimated_population    float64\n",
       "dtype: object"
      ]
     },
     "execution_count": 48,
     "metadata": {},
     "output_type": "execute_result"
    }
   ],
   "source": [
    "df_2012 = pd.DataFrame([df[\"State\"], df[\"MedianIncome\"],df[\"UnemploymentRate\"],df[\"estimated_population\"]]).transpose()\n",
    "df_2012 = df_2012.replace(',','', regex=True)\n",
    "df_2012[\"MedianIncome\"] = df_2012[\"MedianIncome\"].fillna(0)\n",
    "df_2012[\"MedianIncome\"] = df_2012[\"MedianIncome\"].astype(str).astype(float)\n",
    "df_2012.dtypes"
   ]
  },
  {
   "cell_type": "markdown",
   "metadata": {},
   "source": [
    "Splitting regions based on wikipedia article (Census Bureau-designated regions and divisions)\n",
    "https://en.wikipedia.org/wiki/List_of_regions_of_the_United_States"
   ]
  },
  {
   "cell_type": "markdown",
   "metadata": {},
   "source": [
    "Region 1: Northeast  \n",
    "- Division 1: New England (Connecticut, Maine, Massachusetts, New Hampshire, Rhode Island, and Vermont)  \n",
    "- Division 2: Mid-Atlantic (New Jersey, New York, and Pennsylvania)"
   ]
  },
  {
   "cell_type": "code",
   "execution_count": 49,
   "metadata": {},
   "outputs": [],
   "source": [
    "new_england_list = [\"CT\", \"ME\", \"MA\", \"NH\", \"RI\", \"VT\"]\n",
    "mid_atlantic_list = [\"NJ\", \"NY\", \"PA\"]\n",
    "\n",
    "northeast = df_2012[df_2012['State'].isin(new_england_list + mid_atlantic_list)]\n",
    "new_england = df_2012[df_2012['State'].isin(new_england_list)]\n",
    "mid_atlantic = df_2012[df_2012['State'].isin(mid_atlantic_list)]"
   ]
  },
  {
   "cell_type": "code",
   "execution_count": 58,
   "metadata": {},
   "outputs": [
    {
     "data": {
      "text/html": [
       "<div>\n",
       "<style scoped>\n",
       "    .dataframe tbody tr th:only-of-type {\n",
       "        vertical-align: middle;\n",
       "    }\n",
       "\n",
       "    .dataframe tbody tr th {\n",
       "        vertical-align: top;\n",
       "    }\n",
       "\n",
       "    .dataframe thead th {\n",
       "        text-align: right;\n",
       "    }\n",
       "</style>\n",
       "<table border=\"1\" class=\"dataframe\">\n",
       "  <thead>\n",
       "    <tr style=\"text-align: right;\">\n",
       "      <th></th>\n",
       "      <th>MedianIncome</th>\n",
       "      <th>UnemploymentRate</th>\n",
       "      <th>estimated_population</th>\n",
       "    </tr>\n",
       "    <tr>\n",
       "      <th>State</th>\n",
       "      <th></th>\n",
       "      <th></th>\n",
       "      <th></th>\n",
       "    </tr>\n",
       "  </thead>\n",
       "  <tbody>\n",
       "    <tr>\n",
       "      <th>CT</th>\n",
       "      <td>74289.500000</td>\n",
       "      <td>5.012500</td>\n",
       "      <td>5478.625000</td>\n",
       "    </tr>\n",
       "    <tr>\n",
       "      <th>MA</th>\n",
       "      <td>70210.642857</td>\n",
       "      <td>4.185714</td>\n",
       "      <td>7309.642857</td>\n",
       "    </tr>\n",
       "    <tr>\n",
       "      <th>ME</th>\n",
       "      <td>49084.562500</td>\n",
       "      <td>4.206250</td>\n",
       "      <td>4307.625000</td>\n",
       "    </tr>\n",
       "    <tr>\n",
       "      <th>NH</th>\n",
       "      <td>63218.400000</td>\n",
       "      <td>2.810000</td>\n",
       "      <td>4708.200000</td>\n",
       "    </tr>\n",
       "    <tr>\n",
       "      <th>NJ</th>\n",
       "      <td>75639.142857</td>\n",
       "      <td>5.338095</td>\n",
       "      <td>13437.142857</td>\n",
       "    </tr>\n",
       "    <tr>\n",
       "      <th>NY</th>\n",
       "      <td>57115.161290</td>\n",
       "      <td>5.116129</td>\n",
       "      <td>7630.096774</td>\n",
       "    </tr>\n",
       "    <tr>\n",
       "      <th>PA</th>\n",
       "      <td>52552.522388</td>\n",
       "      <td>5.904478</td>\n",
       "      <td>7828.522388</td>\n",
       "    </tr>\n",
       "    <tr>\n",
       "      <th>RI</th>\n",
       "      <td>67249.200000</td>\n",
       "      <td>4.840000</td>\n",
       "      <td>6187.200000</td>\n",
       "    </tr>\n",
       "    <tr>\n",
       "      <th>VT</th>\n",
       "      <td>54234.785714</td>\n",
       "      <td>3.657143</td>\n",
       "      <td>6305.428571</td>\n",
       "    </tr>\n",
       "  </tbody>\n",
       "</table>\n",
       "</div>"
      ],
      "text/plain": [
       "       MedianIncome  UnemploymentRate  estimated_population\n",
       "State                                                      \n",
       "CT     74289.500000          5.012500           5478.625000\n",
       "MA     70210.642857          4.185714           7309.642857\n",
       "ME     49084.562500          4.206250           4307.625000\n",
       "NH     63218.400000          2.810000           4708.200000\n",
       "NJ     75639.142857          5.338095          13437.142857\n",
       "NY     57115.161290          5.116129           7630.096774\n",
       "PA     52552.522388          5.904478           7828.522388\n",
       "RI     67249.200000          4.840000           6187.200000\n",
       "VT     54234.785714          3.657143           6305.428571"
      ]
     },
     "execution_count": 58,
     "metadata": {},
     "output_type": "execute_result"
    }
   ],
   "source": [
    "medinc_northeast = northeast.groupby(['State']).mean()\n",
    "medinc_northeast"
   ]
  },
  {
   "cell_type": "code",
   "execution_count": 59,
   "metadata": {},
   "outputs": [
    {
     "data": {
      "text/plain": [
       "(array([1., 2., 0., 1., 0., 1., 1., 1., 0., 2.]),\n",
       " array([49084.5625    , 51740.02053571, 54395.47857143, 57050.93660714,\n",
       "        59706.39464286, 62361.85267857, 65017.31071429, 67672.76875   ,\n",
       "        70328.22678571, 72983.68482143, 75639.14285714]),\n",
       " <a list of 10 Patch objects>)"
      ]
     },
     "execution_count": 59,
     "metadata": {},
     "output_type": "execute_result"
    },
    {
     "data": {
      "image/png": "[encoded data removed]",
      "text/plain": [
       "<Figure size 432x288 with 1 Axes>"
      ]
     },
     "metadata": {
      "needs_background": "light"
     },
     "output_type": "display_data"
    }
   ],
   "source": [
    "plt.hist(medinc_northeast[\"MedianIncome\"])"
   ]
  },
  {
   "cell_type": "markdown",
   "metadata": {},
   "source": [
    "Region 2: Midwest  \n",
    "- Division 3: East North Central (Illinois, Indiana, Michigan, Ohio, and Wisconsin)  \n",
    "- Division 4: West North Central (Iowa, Kansas, Minnesota, Missouri, Nebraska, North Dakota, and South Dakota)"
   ]
  },
  {
   "cell_type": "code",
   "execution_count": 51,
   "metadata": {},
   "outputs": [],
   "source": [
    "east_north_central_list = [\"IL\", \"IN\", \"MI\", \"OH\", \"WI\"]\n",
    "west_north_central_list = [\"IA\", \"KS\", \"MN\", \"MO\", \"NE\", \"ND\", \"SD\"]\n",
    "\n",
    "midwest = df_2012[df_2012['State'].isin(east_north_central_list + west_north_central_list)]\n",
    "east_north_central = df_2012[df_2012['State'].isin(east_north_central_list)]\n",
    "west_north_central = df_2012[df_2012['State'].isin(west_north_central_list)]"
   ]
  },
  {
   "cell_type": "markdown",
   "metadata": {},
   "source": [
    "Region 3: South\n",
    "- Division 5: South Atlantic (Delaware, Florida, Georgia, Maryland, North Carolina, South Carolina, Virginia, District of Columbia, and West Virginia)\n",
    "- Division 6: East South Central (Alabama, Kentucky, Mississippi, and Tennessee)\n",
    "- Division 7: West South Central (Arkansas, Louisiana, Oklahoma, and Texas)"
   ]
  },
  {
   "cell_type": "code",
   "execution_count": 52,
   "metadata": {},
   "outputs": [],
   "source": [
    "south_atlantic_list = [\"DE\", \"FL\", \"GA\", \"MD\", \"NC\", \"VA\", \"DC\", \"WV\"]\n",
    "east_south_central_list = [\"AL\", \"KY\", \"MS\", \"TN\"]\n",
    "west_south_central_list = [\"AR\", \"LA\", \"OK\", \"TX\"]\n",
    "\n",
    "south = df_2012[df_2012['State'].isin(south_atlantic_list+east_south_central_list+west_south_central_list)]\n",
    "south_atlantic = df_2012[df_2012['State'].isin(south_atlantic_list)]\n",
    "east_south_central = df_2012[df_2012['State'].isin(east_south_central_list)]\n",
    "west_south_central = df_2012[df_2012['State'].isin(west_south_central_list)]"
   ]
  },
  {
   "cell_type": "markdown",
   "metadata": {},
   "source": [
    "Region 4: West\n",
    "- Division 8: Mountain (Arizona, Colorado, Idaho, Montana, Nevada, New Mexico, Utah, and Wyoming)\n",
    "- Division 9: Pacific (Alaska, California, Hawaii, Oregon, and Washington)"
   ]
  },
  {
   "cell_type": "code",
   "execution_count": 26,
   "metadata": {},
   "outputs": [],
   "source": [
    "mountain_list = [\"AZ\", \"CO\", \"ID\", \"MT\", \"NV\", \"NM\", \"UT\", \"WY\"]\n",
    "pacific_list = [\"AK\", \"CA\", \"HI\", \"OR\", \"WA\"]\n",
    "\n",
    "west = df_2012[df_2012['State'].isin(mountain_list+pacific_list)]\n",
    "mountain = df_2012[df_2012['State'].isin(mountain_list)]\n",
    "pacific = df_2012[df_2012['State'].isin(pacific_list)]"
   ]
  },
  {
   "cell_type": "code",
   "execution_count": null,
   "metadata": {},
   "outputs": [],
   "source": []
  },
  {
   "cell_type": "code",
   "execution_count": null,
   "metadata": {},
   "outputs": [],
   "source": []
  },
  {
   "cell_type": "code",
   "execution_count": null,
   "metadata": {},
   "outputs": [],
   "source": []
  }
 ],
 "metadata": {
  "kernelspec": {
   "display_name": "Python 3",
   "language": "python",
   "name": "python3"
  },
  "language_info": {
   "codemirror_mode": {
    "name": "ipython",
    "version": 3
   },
   "file_extension": ".py",
   "mimetype": "text/x-python",
   "name": "python",
   "nbconvert_exporter": "python",
   "pygments_lexer": "ipython3",
   "version": "3.8.3"
  }
 },
 "nbformat": 4,
 "nbformat_minor": 4
}
